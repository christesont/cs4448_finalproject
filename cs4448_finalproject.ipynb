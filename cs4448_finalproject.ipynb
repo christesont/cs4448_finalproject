{
 "cells": [
  {
   "cell_type": "code",
   "execution_count": 1,
   "id": "211f4623",
   "metadata": {},
   "outputs": [
    {
     "name": "stderr",
     "output_type": "stream",
     "text": [
      "[nltk_data] Downloading package stopwords to\n",
      "[nltk_data]     C:\\Users\\Hafez\\AppData\\Roaming\\nltk_data...\n",
      "[nltk_data]   Package stopwords is already up-to-date!\n",
      "[nltk_data] Downloading package averaged_perceptron_tagger to\n",
      "[nltk_data]     C:\\Users\\Hafez\\AppData\\Roaming\\nltk_data...\n",
      "[nltk_data]   Package averaged_perceptron_tagger is already up-to-\n",
      "[nltk_data]       date!\n"
     ]
    },
    {
     "data": {
      "text/plain": [
       "True"
      ]
     },
     "execution_count": 1,
     "metadata": {},
     "output_type": "execute_result"
    }
   ],
   "source": [
    "import pandas as pd\n",
    "import numpy as np\n",
    "import matplotlib.pyplot as plt\n",
    "import seaborn as sns\n",
    "import os\n",
    "import glob\n",
    "\n",
    "import nltk\n",
    "import string\n",
    "import re\n",
    "\n",
    "nltk.download('stopwords')\n",
    "nltk.download('averaged_perceptron_tagger')"
   ]
  },
  {
   "cell_type": "code",
   "execution_count": 9,
   "id": "56418d95",
   "metadata": {
    "scrolled": true
   },
   "outputs": [],
   "source": [
    "def ingest_data():\n",
    "    from pathlib import Path\n",
    "\n",
    "    file_list_pos = [path for path in Path('imdb').rglob('*/pos/*.txt')]\n",
    "    file_list_neg = [path for path in Path('imdb').rglob('*/neg/*.txt')]\n",
    "\n",
    "    corpus_positive = [open(f, encoding=\"utf8\").read() for f in file_list_pos]\n",
    "    corpus_negative = [open(f, encoding=\"utf8\").read() for f in file_list_neg]\n",
    "\n",
    "    df = pd.DataFrame(corpus_positive, columns=['text'])\n",
    "    df['sentiment'] = 'pos'\n",
    "\n",
    "    df2 = pd.DataFrame(corpus_negative, columns=['text'])\n",
    "    df2['sentiment'] = 'neg'\n",
    "\n",
    "    df = df.append(df2)\n",
    "    df.to_pickle('reviews.pkl')\n",
    "\n",
    "df = pd.read_pickle('reviews.pkl')\n"
   ]
  },
  {
   "cell_type": "code",
   "execution_count": 18,
   "metadata": {},
   "outputs": [
    {
     "name": "stderr",
     "output_type": "stream",
     "text": [
      "C:\\Users\\Hafez\\anaconda3\\envs\\comp4448\\lib\\site-packages\\pandas\\core\\frame.py:4901: SettingWithCopyWarning: \n",
      "A value is trying to be set on a copy of a slice from a DataFrame\n",
      "\n",
      "See the caveats in the documentation: https://pandas.pydata.org/pandas-docs/stable/user_guide/indexing.html#returning-a-view-versus-a-copy\n",
      "  return super().drop(\n"
     ]
    },
    {
     "name": "stdout",
     "output_type": "stream",
     "text": [
      "text         I went and saw this movie last night after bei...\n",
      "sentiment                                                  pos\n",
      "Name: 0, dtype: object\n",
      "text         went saw movie last night coaxed friends mine ...\n",
      "sentiment                                                  pos\n",
      "Name: 0, dtype: object\n"
     ]
    },
    {
     "name": "stderr",
     "output_type": "stream",
     "text": [
      "C:\\Users\\Hafez\\AppData\\Local\\Temp/ipykernel_4156/2276190142.py:40: SettingWithCopyWarning: \n",
      "A value is trying to be set on a copy of a slice from a DataFrame.\n",
      "Try using .loc[row_indexer,col_indexer] = value instead\n",
      "\n",
      "See the caveats in the documentation: https://pandas.pydata.org/pandas-docs/stable/user_guide/indexing.html#returning-a-view-versus-a-copy\n",
      "  df['text'] = df['text'].apply(clean, stopwords=sw)\n"
     ]
    }
   ],
   "source": [
    "sw = set(nltk.corpus.stopwords.words('english'))\n",
    "\n",
    "def clean(text, stopwords):\n",
    "    # remove tags like <tab>    \n",
    "    text = re.sub(r'<[^<>]*>', ' ', text)  \n",
    "    # split text on whitespace\n",
    "    text_list = text.split()\n",
    "    text_words = []\n",
    "    \n",
    "    punctuation = set(string.punctuation)\n",
    "    \n",
    "    # keep #tags and @mentions \n",
    "    ## punctuation.remove(\"#\")\n",
    "    ## punctuation.remove(\"@\")\n",
    "    \n",
    "    for word in text_list:\n",
    "        # remove punctuation marks at the beginning  \n",
    "        # of each word\n",
    "        while len(word) > 0 and word[0] in punctuation:\n",
    "            word = word[1:]\n",
    "        \n",
    "        # remove punctuation marks at the end of each word\n",
    "        while len(word) > 0 and word[-1] in punctuation:\n",
    "            word = word[:-1]\n",
    "        \n",
    "        # a rule to eliminate most urls \n",
    "        if len(word) > 0 and \"/\" not in word:\n",
    "            # eliminate stopwords \n",
    "            if word.lower() not in stopwords:\n",
    "                # append the word to the text_words list\n",
    "                text_words.append(word.lower())\n",
    "        cleaner_text = \" \".join(text_words)\n",
    "    return cleaner_text\n",
    "\n",
    "df['length'] = df.text.str.len()\n",
    "df = df[df.length >= 100]\n",
    "df.drop(['length'], axis=1, inplace=True)\n",
    "\n",
    "print(df.iloc[0])\n",
    "df['text'] = df['text'].apply(clean, stopwords=sw)\n",
    "print(df.iloc[0])"
   ]
  },
  {
   "cell_type": "code",
   "execution_count": 19,
   "metadata": {},
   "outputs": [],
   "source": [
    "df.to_pickle('reviews.pkl')\n"
   ]
  },
  {
   "cell_type": "code",
   "execution_count": null,
   "metadata": {},
   "outputs": [],
   "source": []
  }
 ],
 "metadata": {
  "interpreter": {
   "hash": "0f0f8e84468ea63ed105c51173759ab306d7febc690072ee3c51ba3603401a98"
  },
  "kernelspec": {
   "display_name": "Python 3.9.7 64-bit ('comp4448': conda)",
   "name": "python3"
  },
  "language_info": {
   "codemirror_mode": {
    "name": "ipython",
    "version": 3
   },
   "file_extension": ".py",
   "mimetype": "text/x-python",
   "name": "python",
   "nbconvert_exporter": "python",
   "pygments_lexer": "ipython3",
   "version": "3.9.7"
  }
 },
 "nbformat": 4,
 "nbformat_minor": 5
}
