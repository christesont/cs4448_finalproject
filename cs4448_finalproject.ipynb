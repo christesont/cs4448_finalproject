{
 "cells": [
  {
   "cell_type": "code",
   "execution_count": 1,
   "id": "211f4623",
   "metadata": {},
   "outputs": [
    {
     "name": "stderr",
     "output_type": "stream",
     "text": [
      "[nltk_data] Downloading package stopwords to\n",
      "[nltk_data]     C:\\Users\\Hafez\\AppData\\Roaming\\nltk_data...\n",
      "[nltk_data]   Package stopwords is already up-to-date!\n",
      "[nltk_data] Downloading package averaged_perceptron_tagger to\n",
      "[nltk_data]     C:\\Users\\Hafez\\AppData\\Roaming\\nltk_data...\n",
      "[nltk_data]   Package averaged_perceptron_tagger is already up-to-\n",
      "[nltk_data]       date!\n"
     ]
    },
    {
     "data": {
      "text/plain": [
       "True"
      ]
     },
     "execution_count": 1,
     "metadata": {},
     "output_type": "execute_result"
    }
   ],
   "source": [
    "import pandas as pd\n",
    "import numpy as np\n",
    "import matplotlib.pyplot as plt\n",
    "import seaborn as sns\n",
    "import os\n",
    "import glob\n",
    "\n",
    "import nltk\n",
    "import string\n",
    "import re\n",
    "\n",
    "nltk.download('stopwords')\n",
    "nltk.download('averaged_perceptron_tagger')"
   ]
  },
  {
   "cell_type": "code",
   "execution_count": 2,
   "metadata": {},
   "outputs": [],
   "source": [
    "sw = set(nltk.corpus.stopwords.words('english'))\n",
    "\n",
    "def clean(text, stopwords):\n",
    "    # remove tags like <tab>    \n",
    "    text = re.sub(r'<[^<>]*>', ' ', text)  \n",
    "    # split text on whitespace\n",
    "    text_list = text.split()\n",
    "    text_words = []\n",
    "    \n",
    "    punctuation = set(string.punctuation)\n",
    "    \n",
    "    # keep #tags and @mentions \n",
    "    ## punctuation.remove(\"#\")\n",
    "    ## punctuation.remove(\"@\")\n",
    "    \n",
    "    for word in text_list:\n",
    "        # remove punctuation marks at the beginning  \n",
    "        # of each word\n",
    "        while len(word) > 0 and word[0] in punctuation:\n",
    "            word = word[1:]\n",
    "        \n",
    "        # remove punctuation marks at the end of each word\n",
    "        while len(word) > 0 and word[-1] in punctuation:\n",
    "            word = word[:-1]\n",
    "        \n",
    "        # a rule to eliminate most urls \n",
    "        if len(word) > 0 and \"/\" not in word:\n",
    "            # eliminate stopwords \n",
    "            if word.lower() not in stopwords:\n",
    "                # append the word to the text_words list\n",
    "                text_words.append(word.lower())\n",
    "        cleaner_text = \" \".join(text_words)\n",
    "    return cleaner_text"
   ]
  },
  {
   "cell_type": "code",
   "execution_count": 3,
   "id": "56418d95",
   "metadata": {
    "scrolled": true
   },
   "outputs": [],
   "source": [
    "def ingest_and_clean_data():\n",
    "    from pathlib import Path\n",
    "\n",
    "    file_list_pos = [path for path in Path('imdb').rglob('*/pos/*.txt')]\n",
    "    file_list_neg = [path for path in Path('imdb').rglob('*/neg/*.txt')]\n",
    "\n",
    "    corpus_positive = [open(f, encoding=\"utf8\").read() for f in file_list_pos]\n",
    "    corpus_negative = [open(f, encoding=\"utf8\").read() for f in file_list_neg]\n",
    "\n",
    "    df = pd.DataFrame(corpus_positive, columns=['text'])\n",
    "    df['sentiment'] = 'pos'\n",
    "\n",
    "    df2 = pd.DataFrame(corpus_negative, columns=['text'])\n",
    "    df2['sentiment'] = 'neg'\n",
    "\n",
    "    df = df.append(df2)\n",
    "\n",
    "    df['length'] = df.text.str.len()\n",
    "    df = df[df.length >= 100]\n",
    "    df.drop(['length'], axis=1, inplace=True)\n",
    "\n",
    "    print(df.iloc[0])\n",
    "    df['text'] = df['text'].apply(clean, stopwords=sw)\n",
    "    print(df.iloc[0])\n",
    "\n",
    "    df.to_pickle('reviews.pkl')"
   ]
  },
  {
   "cell_type": "code",
   "execution_count": 4,
   "metadata": {},
   "outputs": [],
   "source": [
    "df = pd.read_pickle('reviews.pkl')\n",
    "\n"
   ]
  },
  {
   "cell_type": "code",
   "execution_count": 5,
   "metadata": {},
   "outputs": [],
   "source": [
    "from sklearn.model_selection import train_test_split\n",
    "\n",
    "X_train, X_test, y_train, y_test = train_test_split(df['text'], df['sentiment'], test_size=0.3, random_state=123)"
   ]
  },
  {
   "cell_type": "markdown",
   "metadata": {},
   "source": [
    "Trying Multinomial Naive Bayes"
   ]
  },
  {
   "cell_type": "code",
   "execution_count": 6,
   "metadata": {},
   "outputs": [
    {
     "name": "stdout",
     "output_type": "stream",
     "text": [
      "The train set accuracy is 0.910764305722289\n",
      "The test set accuracy is 0.8692143524076297\n"
     ]
    },
    {
     "data": {
      "image/png": "[encoded data removed]",
      "text/plain": [
       "<Figure size 432x288 with 2 Axes>"
      ]
     },
     "metadata": {
      "needs_background": "light"
     },
     "output_type": "display_data"
    }
   ],
   "source": [
    "from sklearn.pipeline import Pipeline\n",
    "from sklearn.feature_extraction.text import TfidfVectorizer\n",
    "from sklearn.naive_bayes import MultinomialNB\n",
    "from sklearn.metrics import confusion_matrix\n",
    "from sklearn.metrics import accuracy_score\n",
    "\n",
    "pipe_nb = Pipeline([('tfidf', TfidfVectorizer(stop_words=\"english\")), ('clf', MultinomialNB())])\n",
    "\n",
    "pipe_nb.fit(X_train, y_train)\n",
    "\n",
    "predicted_sentiment = pipe_nb.predict(X_test)\n",
    "\n",
    "\n",
    "cm = confusion_matrix(y_test, predicted_sentiment)\n",
    "sns.heatmap(cm, annot=True, fmt=\"d\", xticklabels=['neg', 'pos'], yticklabels=['neg', 'pos'])\n",
    "\n",
    "\n",
    "predicted_sentiment_train = pipe_nb.predict(X_train)\n",
    "\n",
    "print(f\"The train set accuracy is {accuracy_score(y_train, predicted_sentiment_train)}\")\n",
    "print(f\"The test set accuracy is {accuracy_score(y_test, predicted_sentiment)}\")"
   ]
  },
  {
   "cell_type": "code",
   "execution_count": 20,
   "metadata": {},
   "outputs": [
    {
     "data": {
      "text/plain": [
       "86944"
      ]
     },
     "execution_count": 20,
     "metadata": {},
     "output_type": "execute_result"
    }
   ],
   "source": [
    "len(pipe_nb.steps[0][1].get_feature_names())"
   ]
  },
  {
   "cell_type": "markdown",
   "metadata": {},
   "source": [
    "Trying Support Vector Machine"
   ]
  },
  {
   "cell_type": "markdown",
   "metadata": {},
   "source": [
    "from sklearn.svm import SVC\n",
    "\n",
    "pipe_svc = Pipeline([('tfidf', TfidfVectorizer(stop_words=\"english\")), ('clf', SVC())])\n",
    "\n",
    "pipe_svc.fit(X_train, y_train)\n",
    "\n",
    "predicted_sentiment = pipe_svc.predict(X_test)\n",
    "\n",
    "\n",
    "cm = confusion_matrix(y_test, predicted_sentiment)\n",
    "sns.heatmap(cm, annot=True, fmt=\"d\", xticklabels=['neg', 'pos'], yticklabels=['neg', 'pos'])\n",
    "\n",
    "\n",
    "predicted_sentiment_train = pipe_svc.predict(X_train)\n",
    "\n",
    "print(f\"The train set accuracy is {accuracy_score(y_train, predicted_sentiment_train)}\")\n",
    "print(f\"The test set accuracy is {accuracy_score(y_test, predicted_sentiment)}\")"
   ]
  },
  {
   "cell_type": "markdown",
   "metadata": {},
   "source": [
    "Trying Random Forest"
   ]
  },
  {
   "cell_type": "code",
   "execution_count": 7,
   "metadata": {},
   "outputs": [
    {
     "name": "stdout",
     "output_type": "stream",
     "text": [
      "The train set accuracy is 1.0\n",
      "The test set accuracy is 0.8604108309990663\n"
     ]
    },
    {
     "data": {
      "image/png": "[encoded data removed]",
      "text/plain": [
       "<Figure size 432x288 with 2 Axes>"
      ]
     },
     "metadata": {
      "needs_background": "light"
     },
     "output_type": "display_data"
    }
   ],
   "source": [
    "from sklearn.ensemble import RandomForestClassifier\n",
    "\n",
    "pipe_rf = Pipeline([('tfidf', TfidfVectorizer(stop_words=\"english\")), ('clf', RandomForestClassifier())])\n",
    "\n",
    "pipe_rf.fit(X_train, y_train)\n",
    "\n",
    "predicted_sentiment = pipe_rf.predict(X_test)\n",
    "\n",
    "\n",
    "cm = confusion_matrix(y_test, predicted_sentiment)\n",
    "sns.heatmap(cm, annot=True, fmt=\"d\", xticklabels=['neg', 'pos'], yticklabels=['neg', 'pos'])\n",
    "\n",
    "\n",
    "predicted_sentiment_train = pipe_rf.predict(X_train)\n",
    "\n",
    "print(f\"The train set accuracy is {accuracy_score(y_train, predicted_sentiment_train)}\")\n",
    "print(f\"The test set accuracy is {accuracy_score(y_test, predicted_sentiment)}\")"
   ]
  },
  {
   "cell_type": "markdown",
   "metadata": {},
   "source": [
    "Trying XGBoost"
   ]
  },
  {
   "cell_type": "code",
   "execution_count": null,
   "metadata": {},
   "outputs": [
    {
     "name": "stderr",
     "output_type": "stream",
     "text": [
      "C:\\Users\\Hafez\\anaconda3\\envs\\comp4448\\lib\\site-packages\\xgboost\\sklearn.py:888: UserWarning: The use of label encoder in XGBClassifier is deprecated and will be removed in a future release. To remove this warning, do the following: 1) Pass option use_label_encoder=False when constructing XGBClassifier object; and 2) Encode your labels (y) as integers starting with 0, i.e. 0, 1, 2, ..., [num_class - 1].\n",
      "  warnings.warn(label_encoder_deprecation_msg, UserWarning)\n"
     ]
    },
    {
     "name": "stdout",
     "output_type": "stream",
     "text": [
      "[15:28:07] WARNING: ..\\src\\learner.cc:1061: Starting in XGBoost 1.3.0, the default evaluation metric used with the objective 'binary:logistic' was changed from 'error' to 'logloss'. Explicitly set eval_metric if you'd like to restore the old behavior.\n",
      "The train set accuracy is 0.9264277139427199\n",
      "The test set accuracy is 0.8558089902627718\n"
     ]
    },
    {
     "data": {
      "image/png": "[encoded data removed]",
      "text/plain": [
       "<Figure size 432x288 with 2 Axes>"
      ]
     },
     "metadata": {
      "needs_background": "light"
     },
     "output_type": "display_data"
    }
   ],
   "source": [
    "from xgboost import XGBClassifier\n",
    "pipe_xgb = Pipeline([('tfidf', TfidfVectorizer(stop_words=\"english\")), ('clf', XGBClassifier(objective='multi:softmax', num_class=2))])\n",
    "\n",
    "pipe_xgb.fit(X_train, y_train)\n",
    "\n",
    "predicted_sentiment = pipe_xgb.predict(X_test)\n",
    "\n",
    "\n",
    "cm = confusion_matrix(y_test, predicted_sentiment)\n",
    "sns.heatmap(cm, annot=True, fmt=\"d\", xticklabels=['neg', 'pos'], yticklabels=['neg', 'pos'])\n",
    "\n",
    "\n",
    "predicted_sentiment_train = pipe_xgb.predict(X_train)\n",
    "\n",
    "print(f\"The train set accuracy is {accuracy_score(y_train, predicted_sentiment_train)}\")\n",
    "print(f\"The test set accuracy is {accuracy_score(y_test, predicted_sentiment)}\")"
   ]
  },
  {
   "cell_type": "markdown",
   "metadata": {},
   "source": [
    "Hyperparameter Tuning Naive Bayes"
   ]
  },
  {
   "cell_type": "code",
   "execution_count": 23,
   "metadata": {},
   "outputs": [
    {
     "name": "stderr",
     "output_type": "stream",
     "text": [
      "C:\\Users\\Hafez\\anaconda3\\envs\\comp4448\\lib\\site-packages\\sklearn\\model_selection\\_validation.py:372: FitFailedWarning: \n",
      "20 fits failed out of a total of 120.\n",
      "The score on these train-test partitions for these parameters will be set to nan.\n",
      "If these failures are not expected, you can try to debug them by setting error_score='raise'.\n",
      "\n",
      "Below are more details about the failures:\n",
      "--------------------------------------------------------------------------------\n",
      "20 fits failed with the following error:\n",
      "Traceback (most recent call last):\n",
      "  File \"C:\\Users\\Hafez\\anaconda3\\envs\\comp4448\\lib\\site-packages\\sklearn\\model_selection\\_validation.py\", line 681, in _fit_and_score\n",
      "    estimator.fit(X_train, y_train, **fit_params)\n",
      "  File \"C:\\Users\\Hafez\\anaconda3\\envs\\comp4448\\lib\\site-packages\\sklearn\\pipeline.py\", line 390, in fit\n",
      "    Xt = self._fit(X, y, **fit_params_steps)\n",
      "  File \"C:\\Users\\Hafez\\anaconda3\\envs\\comp4448\\lib\\site-packages\\sklearn\\pipeline.py\", line 348, in _fit\n",
      "    X, fitted_transformer = fit_transform_one_cached(\n",
      "  File \"C:\\Users\\Hafez\\anaconda3\\envs\\comp4448\\lib\\site-packages\\joblib\\memory.py\", line 349, in __call__\n",
      "    return self.func(*args, **kwargs)\n",
      "  File \"C:\\Users\\Hafez\\anaconda3\\envs\\comp4448\\lib\\site-packages\\sklearn\\pipeline.py\", line 893, in _fit_transform_one\n",
      "    res = transformer.fit_transform(X, y, **fit_params)\n",
      "  File \"C:\\Users\\Hafez\\anaconda3\\envs\\comp4448\\lib\\site-packages\\sklearn\\feature_extraction\\text.py\", line 2077, in fit_transform\n",
      "    X = super().fit_transform(raw_documents)\n",
      "  File \"C:\\Users\\Hafez\\anaconda3\\envs\\comp4448\\lib\\site-packages\\sklearn\\feature_extraction\\text.py\", line 1347, in fit_transform\n",
      "    X, self.stop_words_ = self._limit_features(\n",
      "  File \"C:\\Users\\Hafez\\anaconda3\\envs\\comp4448\\lib\\site-packages\\sklearn\\feature_extraction\\text.py\", line 1179, in _limit_features\n",
      "    raise ValueError(\n",
      "ValueError: After pruning, no terms remain. Try a lower min_df or a higher max_df.\n",
      "\n",
      "  warnings.warn(some_fits_failed_message, FitFailedWarning)\n",
      "C:\\Users\\Hafez\\anaconda3\\envs\\comp4448\\lib\\site-packages\\sklearn\\model_selection\\_search.py:969: UserWarning: One or more of the test scores are non-finite: [0.67678501 0.67678501        nan        nan 0.70159494 0.70159494\n",
      " 0.58877835 0.58877835 0.70059459 0.70059459 0.60675698 0.60675698\n",
      " 0.67678501 0.67678501        nan        nan 0.70159494 0.70159494\n",
      " 0.58877835 0.58877835 0.70059459 0.70059459 0.60675698 0.60675698]\n",
      "  warnings.warn(\n"
     ]
    },
    {
     "name": "stdout",
     "output_type": "stream",
     "text": [
      "The train set accuracy is 0.7004801920768308\n",
      "The test set accuracy is 0.7034813925570228\n",
      "Best Parameters: {'clf__alpha': 0.01, 'tfidf__max_df': 0.5, 'tfidf__min_df': 0.1, 'tfidf__ngram_range': (1, 1)}\n"
     ]
    },
    {
     "data": {
      "image/png": "[encoded data removed]",
      "text/plain": [
       "<Figure size 432x288 with 2 Axes>"
      ]
     },
     "metadata": {
      "needs_background": "light"
     },
     "output_type": "display_data"
    }
   ],
   "source": [
    "from sklearn.model_selection import GridSearchCV\n",
    "\n",
    "parameters = {\n",
    "    #'tfidf__max_features': (1000, 2000, 5000, 10000),\n",
    "    'tfidf__min_df': (0.1, 0.25),\n",
    "    'tfidf__max_df': (0.25, 0.5, 0.75),\n",
    "    'tfidf__ngram_range': [(1, 1), (1, 2)],\n",
    "    'clf__alpha': (1e-2, 1e-3)\n",
    "}\n",
    "\n",
    "grid_search = GridSearchCV(pipe_nb, parameters, cv=5)\n",
    "grid_search.fit(X_train, y_train)\n",
    "\n",
    "predicted_sentiment = grid_search.predict(X_test)\n",
    "\n",
    "\n",
    "cm = confusion_matrix(y_test, predicted_sentiment)\n",
    "sns.heatmap(cm, annot=True, fmt=\"d\", xticklabels=['neg', 'pos'], yticklabels=['neg', 'pos'])\n",
    "\n",
    "\n",
    "predicted_sentiment_train = grid_search.predict(X_train)\n",
    "\n",
    "print(f\"The train set accuracy is {accuracy_score(y_train, predicted_sentiment_train)}\")\n",
    "print(f\"The test set accuracy is {accuracy_score(y_test, predicted_sentiment)}\")\n",
    "\n",
    "print(f\"Best Parameters: {grid_search.best_params_}\")"
   ]
  },
  {
   "cell_type": "markdown",
   "metadata": {},
   "source": [
    "Hyperparameter Tuning Random Forest"
   ]
  },
  {
   "cell_type": "code",
   "execution_count": 27,
   "metadata": {},
   "outputs": [
    {
     "name": "stdout",
     "output_type": "stream",
     "text": [
      "The train set accuracy is 1.0\n",
      "The test set accuracy is 0.8726157129518474\n",
      "Best Parameters: {'clf__n_estimators': 200, 'tfidf__max_df': 0.5, 'tfidf__ngram_range': (1, 2)}\n"
     ]
    },
    {
     "data": {
      "image/png": "[encoded data removed]",
      "text/plain": [
       "<Figure size 432x288 with 2 Axes>"
      ]
     },
     "metadata": {
      "needs_background": "light"
     },
     "output_type": "display_data"
    }
   ],
   "source": [
    "parameters = {\n",
    "    'tfidf__max_df': (0.25, 0.5, 0.75),\n",
    "    'tfidf__ngram_range': [(1, 1), (1, 2), (1, 3)],\n",
    "    'clf__n_estimators': (50, 100, 150, 200)\n",
    "}\n",
    "\n",
    "grid_search = GridSearchCV(pipe_rf, parameters, cv=5, n_jobs=12)\n",
    "grid_search.fit(X_train, y_train)\n",
    "\n",
    "predicted_sentiment = grid_search.predict(X_test)\n",
    "\n",
    "\n",
    "cm = confusion_matrix(y_test, predicted_sentiment)\n",
    "sns.heatmap(cm, annot=True, fmt=\"d\", xticklabels=['neg', 'pos'], yticklabels=['neg', 'pos'])\n",
    "\n",
    "\n",
    "predicted_sentiment_train = grid_search.predict(X_train)\n",
    "\n",
    "print(f\"The train set accuracy is {accuracy_score(y_train, predicted_sentiment_train)}\")\n",
    "print(f\"The test set accuracy is {accuracy_score(y_test, predicted_sentiment)}\")\n",
    "\n",
    "print(f\"Best Parameters: {grid_search.best_params_}\")"
   ]
  },
  {
   "cell_type": "markdown",
   "metadata": {},
   "source": [
    "Hyperparameter Tuning XGBoost"
   ]
  },
  {
   "cell_type": "code",
   "execution_count": null,
   "metadata": {},
   "outputs": [],
   "source": [
    "parameters = {\n",
    "    'tfidf__max_df': (0.25, 0.5, 0.75),\n",
    "    'tfidf__ngram_range': [(1, 1), (1, 2), (1, 3)],\n",
    "    'clf__n_estimators': (50, 100, 150, 200)\n",
    "}\n",
    "\n",
    "grid_search = GridSearchCV(pipe_xgb, parameters, cv=5)\n",
    "grid_search.fit(X_train, y_train)\n",
    "\n",
    "predicted_sentiment = grid_search.predict(X_test)\n",
    "\n",
    "\n",
    "cm = confusion_matrix(y_test, predicted_sentiment)\n",
    "sns.heatmap(cm, annot=True, fmt=\"d\", xticklabels=['neg', 'pos'], yticklabels=['neg', 'pos'])\n",
    "\n",
    "\n",
    "predicted_sentiment_train = grid_search.predict(X_train)\n",
    "\n",
    "print(f\"The train set accuracy is {accuracy_score(y_train, predicted_sentiment_train)}\")\n",
    "print(f\"The test set accuracy is {accuracy_score(y_test, predicted_sentiment)}\")\n",
    "\n",
    "print(f\"Best Parameters: {grid_search.best_params_}\")"
   ]
  }
 ],
 "metadata": {
  "interpreter": {
   "hash": "0f0f8e84468ea63ed105c51173759ab306d7febc690072ee3c51ba3603401a98"
  },
  "kernelspec": {
   "display_name": "Python 3.9.7 64-bit ('comp4448': conda)",
   "name": "python3"
  },
  "language_info": {
   "codemirror_mode": {
    "name": "ipython",
    "version": 3
   },
   "file_extension": ".py",
   "mimetype": "text/x-python",
   "name": "python",
   "nbconvert_exporter": "python",
   "pygments_lexer": "ipython3",
   "version": "3.9.7"
  }
 },
 "nbformat": 4,
 "nbformat_minor": 5
}
