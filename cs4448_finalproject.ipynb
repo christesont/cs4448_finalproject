{
 "cells": [
  {
   "cell_type": "code",
   "execution_count": 1,
   "id": "211f4623",
   "metadata": {},
   "outputs": [
    {
     "name": "stderr",
     "output_type": "stream",
     "text": [
      "[nltk_data] Downloading package stopwords to\n",
      "[nltk_data]     /home/christesont/nltk_data...\n",
      "[nltk_data]   Package stopwords is already up-to-date!\n",
      "[nltk_data] Downloading package averaged_perceptron_tagger to\n",
      "[nltk_data]     /home/christesont/nltk_data...\n",
      "[nltk_data]   Package averaged_perceptron_tagger is already up-to-\n",
      "[nltk_data]       date!\n"
     ]
    },
    {
     "data": {
      "text/plain": [
       "True"
      ]
     },
     "execution_count": 1,
     "metadata": {},
     "output_type": "execute_result"
    }
   ],
   "source": [
    "import pandas as pd\n",
    "import numpy as np\n",
    "import matplotlib.pyplot as plt\n",
    "import seaborn as sns\n",
    "import os\n",
    "import glob\n",
    "\n",
    "import nltk\n",
    "import string\n",
    "import re\n",
    "\n",
    "nltk.download('stopwords')\n",
    "nltk.download('averaged_perceptron_tagger')"
   ]
  },
  {
   "cell_type": "code",
   "execution_count": 2,
   "id": "20a167bc",
   "metadata": {},
   "outputs": [],
   "source": [
    "sw = set(nltk.corpus.stopwords.words('english'))\n",
    "\n",
    "def clean(text, stopwords):\n",
    "    # remove tags like <tab>    \n",
    "    text = re.sub(r'<[^<>]*>', ' ', text)  \n",
    "    # split text on whitespace\n",
    "    text_list = text.split()\n",
    "    text_words = []\n",
    "    \n",
    "    punctuation = set(string.punctuation)\n",
    "    \n",
    "    # keep #tags and @mentions \n",
    "    ## punctuation.remove(\"#\")\n",
    "    ## punctuation.remove(\"@\")\n",
    "    \n",
    "    for word in text_list:\n",
    "        # remove punctuation marks at the beginning  \n",
    "        # of each word\n",
    "        while len(word) > 0 and word[0] in punctuation:\n",
    "            word = word[1:]\n",
    "        \n",
    "        # remove punctuation marks at the end of each word\n",
    "        while len(word) > 0 and word[-1] in punctuation:\n",
    "            word = word[:-1]\n",
    "        \n",
    "        # a rule to eliminate most urls \n",
    "        if len(word) > 0 and \"/\" not in word:\n",
    "            # eliminate stopwords \n",
    "            if word.lower() not in stopwords:\n",
    "                # append the word to the text_words list\n",
    "                text_words.append(word.lower())\n",
    "        cleaner_text = \" \".join(text_words)\n",
    "    return cleaner_text"
   ]
  },
  {
   "cell_type": "code",
   "execution_count": 3,
   "id": "56418d95",
   "metadata": {
    "scrolled": true
   },
   "outputs": [],
   "source": [
    "def ingest_and_clean_data():\n",
    "    from pathlib import Path\n",
    "\n",
    "    file_list_pos = [path for path in Path('imdb').rglob('*/pos/*.txt')]\n",
    "    file_list_neg = [path for path in Path('imdb').rglob('*/neg/*.txt')]\n",
    "\n",
    "    corpus_positive = [open(f, encoding=\"utf8\").read() for f in file_list_pos]\n",
    "    corpus_negative = [open(f, encoding=\"utf8\").read() for f in file_list_neg]\n",
    "\n",
    "    df = pd.DataFrame(corpus_positive, columns=['text'])\n",
    "    df['sentiment'] = 'pos'\n",
    "\n",
    "    df2 = pd.DataFrame(corpus_negative, columns=['text'])\n",
    "    df2['sentiment'] = 'neg'\n",
    "\n",
    "    df = df.append(df2)\n",
    "\n",
    "    df['length'] = df.text.str.len()\n",
    "    df = df[df.length >= 100]\n",
    "    df.drop(['length'], axis=1, inplace=True)\n",
    "\n",
    "    print(df.iloc[0])\n",
    "    df['text'] = df['text'].apply(clean, stopwords=sw)\n",
    "    print(df.iloc[0])\n",
    "\n",
    "    df.to_pickle('reviews.pkl')"
   ]
  },
  {
   "cell_type": "code",
   "execution_count": 4,
   "id": "2e3fd61d",
   "metadata": {},
   "outputs": [
    {
     "data": {
      "text/html": [
       "<div>\n",
       "<style scoped>\n",
       "    .dataframe tbody tr th:only-of-type {\n",
       "        vertical-align: middle;\n",
       "    }\n",
       "\n",
       "    .dataframe tbody tr th {\n",
       "        vertical-align: top;\n",
       "    }\n",
       "\n",
       "    .dataframe thead th {\n",
       "        text-align: right;\n",
       "    }\n",
       "</style>\n",
       "<table border=\"1\" class=\"dataframe\">\n",
       "  <thead>\n",
       "    <tr style=\"text-align: right;\">\n",
       "      <th></th>\n",
       "      <th>text</th>\n",
       "      <th>sentiment</th>\n",
       "    </tr>\n",
       "  </thead>\n",
       "  <tbody>\n",
       "    <tr>\n",
       "      <th>0</th>\n",
       "      <td>went saw movie last night coaxed friends mine ...</td>\n",
       "      <td>pos</td>\n",
       "    </tr>\n",
       "    <tr>\n",
       "      <th>1</th>\n",
       "      <td>actor turned director bill paxton follows prom...</td>\n",
       "      <td>pos</td>\n",
       "    </tr>\n",
       "    <tr>\n",
       "      <th>2</th>\n",
       "      <td>recreational golfer knowledge sport's history ...</td>\n",
       "      <td>pos</td>\n",
       "    </tr>\n",
       "    <tr>\n",
       "      <th>3</th>\n",
       "      <td>saw film sneak preview delightful cinematograp...</td>\n",
       "      <td>pos</td>\n",
       "    </tr>\n",
       "    <tr>\n",
       "      <th>4</th>\n",
       "      <td>bill paxton taken true story 1913 us golf open...</td>\n",
       "      <td>pos</td>\n",
       "    </tr>\n",
       "    <tr>\n",
       "      <th>...</th>\n",
       "      <td>...</td>\n",
       "      <td>...</td>\n",
       "    </tr>\n",
       "    <tr>\n",
       "      <th>24995</th>\n",
       "      <td>towards end movie felt technical felt like cla...</td>\n",
       "      <td>neg</td>\n",
       "    </tr>\n",
       "    <tr>\n",
       "      <th>24996</th>\n",
       "      <td>kind movie enemies content watch time bloody t...</td>\n",
       "      <td>neg</td>\n",
       "    </tr>\n",
       "    <tr>\n",
       "      <th>24997</th>\n",
       "      <td>saw descent last night stockholm film festival...</td>\n",
       "      <td>neg</td>\n",
       "    </tr>\n",
       "    <tr>\n",
       "      <th>24998</th>\n",
       "      <td>films pick pound turn rather good 23rd century...</td>\n",
       "      <td>neg</td>\n",
       "    </tr>\n",
       "    <tr>\n",
       "      <th>24999</th>\n",
       "      <td>one dumbest films i've ever seen rips nearly e...</td>\n",
       "      <td>neg</td>\n",
       "    </tr>\n",
       "  </tbody>\n",
       "</table>\n",
       "<p>49980 rows × 2 columns</p>\n",
       "</div>"
      ],
      "text/plain": [
       "                                                    text sentiment\n",
       "0      went saw movie last night coaxed friends mine ...       pos\n",
       "1      actor turned director bill paxton follows prom...       pos\n",
       "2      recreational golfer knowledge sport's history ...       pos\n",
       "3      saw film sneak preview delightful cinematograp...       pos\n",
       "4      bill paxton taken true story 1913 us golf open...       pos\n",
       "...                                                  ...       ...\n",
       "24995  towards end movie felt technical felt like cla...       neg\n",
       "24996  kind movie enemies content watch time bloody t...       neg\n",
       "24997  saw descent last night stockholm film festival...       neg\n",
       "24998  films pick pound turn rather good 23rd century...       neg\n",
       "24999  one dumbest films i've ever seen rips nearly e...       neg\n",
       "\n",
       "[49980 rows x 2 columns]"
      ]
     },
     "execution_count": 4,
     "metadata": {},
     "output_type": "execute_result"
    }
   ],
   "source": [
    "df = pd.read_pickle('reviews.pkl')\n",
    "# df['sentiment']=(df['sentiment']=='pos').astype(int)\n",
    "df"
   ]
  },
  {
   "cell_type": "code",
   "execution_count": 5,
   "id": "8f35c4c2",
   "metadata": {},
   "outputs": [],
   "source": [
    "from sklearn.model_selection import train_test_split\n",
    "\n",
    "X_train, X_test, y_train, y_test = train_test_split(df['text'], df['sentiment'], test_size=0.3, random_state=123)"
   ]
  },
  {
   "cell_type": "markdown",
   "id": "c879f8b5",
   "metadata": {},
   "source": [
    "Trying Multinomial Naive Bayes"
   ]
  },
  {
   "cell_type": "code",
   "execution_count": 6,
   "id": "cea3987c",
   "metadata": {},
   "outputs": [
    {
     "name": "stdout",
     "output_type": "stream",
     "text": [
      "The train set accuracy is 0.8628021530314935\n"
     ]
    },
    {
     "data": {
      "image/png": "[encoded data removed]",
      "text/plain": [
       "<Figure size 432x288 with 2 Axes>"
      ]
     },
     "metadata": {
      "needs_background": "light"
     },
     "output_type": "display_data"
    }
   ],
   "source": [
    "from sklearn.pipeline import Pipeline\n",
    "from sklearn.feature_extraction.text import TfidfVectorizer\n",
    "from sklearn.naive_bayes import MultinomialNB\n",
    "from sklearn.metrics import confusion_matrix\n",
    "# from sklearn.metrics import accuracy_score \n",
    "from sklearn.model_selection import cross_val_score, cross_val_predict\n",
    "\n",
    "pipe_nb = Pipeline([('tfidf', TfidfVectorizer(stop_words=\"english\")), ('clf', MultinomialNB())])\n",
    "\n",
    "pipe_nb.fit(X_train, y_train)\n",
    "\n",
    "cv_acc_score = np.mean(cross_val_score(pipe_nb, X_train, y_train, scoring='accuracy'))\n",
    "\n",
    "# predicted_sentiment = pipe_nb.predict(X_test)\n",
    "\n",
    "predicted_sentiment_train = cross_val_predict(pipe_nb,X_train,y_train)\n",
    "\n",
    "\n",
    "\n",
    "cm = confusion_matrix(y_train, predicted_sentiment_train)\n",
    "sns.heatmap(cm, annot=True, fmt=\"d\", xticklabels=['neg', 'pos'], yticklabels=['neg', 'pos'])\n",
    "\n",
    "\n",
    "print(f\"The train set accuracy is {cv_acc_score}\")\n",
    "# print(f\"The test set accuracy is {accuracy_score(y_test, predicted_sentiment)}\")"
   ]
  },
  {
   "cell_type": "code",
   "execution_count": 7,
   "id": "46369fa0",
   "metadata": {},
   "outputs": [
    {
     "name": "stderr",
     "output_type": "stream",
     "text": [
      "/mnt/c/users/chris/desktop/atomprojects/cs4448/cs4448/lib/python3.8/site-packages/sklearn/utils/deprecation.py:87: FutureWarning: Function get_feature_names is deprecated; get_feature_names is deprecated in 1.0 and will be removed in 1.2. Please use get_feature_names_out instead.\n",
      "  warnings.warn(msg, category=FutureWarning)\n"
     ]
    },
    {
     "data": {
      "text/plain": [
       "86944"
      ]
     },
     "execution_count": 7,
     "metadata": {},
     "output_type": "execute_result"
    }
   ],
   "source": [
    "len(pipe_nb.steps[0][1].get_feature_names())"
   ]
  },
  {
   "cell_type": "markdown",
   "id": "c3d0fd12",
   "metadata": {},
   "source": [
    "Trying Support Vector Machine"
   ]
  },
  {
   "cell_type": "markdown",
   "id": "5e093cd2",
   "metadata": {},
   "source": [
    "from sklearn.svm import SVC\n",
    "\n",
    "pipe_svc = Pipeline([('tfidf', TfidfVectorizer(stop_words=\"english\")), ('clf', SVC())])\n",
    "\n",
    "pipe_svc.fit(X_train, y_train)\n",
    "\n",
    "predicted_sentiment = pipe_svc.predict(X_test)\n",
    "\n",
    "\n",
    "cm = confusion_matrix(y_test, predicted_sentiment)\n",
    "sns.heatmap(cm, annot=True, fmt=\"d\", xticklabels=['neg', 'pos'], yticklabels=['neg', 'pos'])\n",
    "\n",
    "\n",
    "predicted_sentiment_train = pipe_svc.predict(X_train)\n",
    "\n",
    "print(f\"The train set accuracy is {accuracy_score(y_train, predicted_sentiment_train)}\")\n",
    "print(f\"The test set accuracy is {accuracy_score(y_test, predicted_sentiment)}\")"
   ]
  },
  {
   "cell_type": "markdown",
   "id": "2c8acaf3",
   "metadata": {},
   "source": [
    "Trying Random Forest"
   ]
  },
  {
   "cell_type": "code",
   "execution_count": 8,
   "id": "1295abca",
   "metadata": {},
   "outputs": [
    {
     "name": "stdout",
     "output_type": "stream",
     "text": [
      "The train set accuracy is 0.8527124657148004\n"
     ]
    },
    {
     "data": {
      "image/png": "[encoded data removed]",
      "text/plain": [
       "<Figure size 432x288 with 2 Axes>"
      ]
     },
     "metadata": {
      "needs_background": "light"
     },
     "output_type": "display_data"
    }
   ],
   "source": [
    "from sklearn.ensemble import RandomForestClassifier\n",
    "\n",
    "pipe_rf = Pipeline([('tfidf', TfidfVectorizer(stop_words=\"english\")), ('clf', RandomForestClassifier(n_jobs=5))])\n",
    "\n",
    "pipe_rf.fit(X_train, y_train)\n",
    "\n",
    "cv_acc_score = np.mean(cross_val_score(pipe_rf, X_train, y_train, scoring='accuracy'))\n",
    "\n",
    "# predicted_sentiment = pipe_nb.predict(X_test)\n",
    "\n",
    "predicted_sentiment_train = cross_val_predict(pipe_rf,X_train,y_train)\n",
    "\n",
    "cm = confusion_matrix(y_train, predicted_sentiment_train)\n",
    "sns.heatmap(cm, annot=True, fmt=\"d\", xticklabels=['neg', 'pos'], yticklabels=['neg', 'pos'])\n",
    "\n",
    "print(f\"The train set accuracy is {cv_acc_score}\")\n",
    "# print(f\"The test set accuracy is {accuracy_score(y_test, predicted_sentiment)}\")"
   ]
  },
  {
   "cell_type": "markdown",
   "id": "5e4471dd",
   "metadata": {},
   "source": [
    "Trying XGBoost"
   ]
  },
  {
   "cell_type": "code",
   "execution_count": 9,
   "id": "110f552a",
   "metadata": {},
   "outputs": [
    {
     "name": "stdout",
     "output_type": "stream",
     "text": [
      "The train set accuracy is 0.8489967712860078\n"
     ]
    },
    {
     "data": {
      "image/png": "[encoded data removed]",
      "text/plain": [
       "<Figure size 432x288 with 2 Axes>"
      ]
     },
     "metadata": {
      "needs_background": "light"
     },
     "output_type": "display_data"
    }
   ],
   "source": [
    "from xgboost import XGBClassifier\n",
    "pipe_xgb = Pipeline([('tfidf', TfidfVectorizer(stop_words=\"english\")),\n",
    "                     ('clf', XGBClassifier(objective='binary:logistic', use_label_encoder=True,eval_metric='error',n_jobs=5))])\n",
    "\n",
    "\n",
    "import warnings\n",
    "warnings.filterwarnings(\"ignore\") #ignore lot of xgb UserWarnings that don't affect results\n",
    "\n",
    "pipe_xgb.fit(X_train, y_train)\n",
    "\n",
    "cv_acc_score = np.mean(cross_val_score(pipe_xgb, X_train, y_train, scoring='accuracy'))\n",
    "\n",
    "# predicted_sentiment = pipe_nb.predict(X_test)\n",
    "predicted_sentiment_train = cross_val_predict(pipe_xgb,X_train,y_train)\n",
    "warnings.filterwarnings(\"default\")\n",
    "\n",
    "cm = confusion_matrix(y_train, predicted_sentiment_train)\n",
    "sns.heatmap(cm, annot=True, fmt=\"d\", xticklabels=['neg', 'pos'], yticklabels=['neg', 'pos'])\n",
    "\n",
    "print(f\"The train set accuracy is {cv_acc_score}\")\n",
    "# print(f\"The test set accuracy is {accuracy_score(y_test, predicted_sentiment)}\")"
   ]
  },
  {
   "cell_type": "markdown",
   "id": "f2a2f37c",
   "metadata": {},
   "source": [
    "## After cross-validation on the Training set: \n",
    "Multinomial Naive Bayes had the best accuracy across the 5 cross-validation folds (approximately 86%).  "
   ]
  },
  {
   "cell_type": "markdown",
   "id": "087a0d16",
   "metadata": {},
   "source": [
    "Hyperparameter Tuning Naive Bayes"
   ]
  },
  {
   "cell_type": "code",
   "execution_count": 10,
   "id": "d4fea262",
   "metadata": {},
   "outputs": [
    {
     "name": "stderr",
     "output_type": "stream",
     "text": [
      "/mnt/c/users/chris/desktop/atomprojects/cs4448/cs4448/lib/python3.8/site-packages/sklearn/model_selection/_validation.py:372: FitFailedWarning: \n",
      "30 fits failed out of a total of 135.\n",
      "The score on these train-test partitions for these parameters will be set to nan.\n",
      "If these failures are not expected, you can try to debug them by setting error_score='raise'.\n",
      "\n",
      "Below are more details about the failures:\n",
      "--------------------------------------------------------------------------------\n",
      "30 fits failed with the following error:\n",
      "Traceback (most recent call last):\n",
      "  File \"/mnt/c/users/chris/desktop/atomprojects/cs4448/cs4448/lib/python3.8/site-packages/sklearn/model_selection/_validation.py\", line 681, in _fit_and_score\n",
      "    estimator.fit(X_train, y_train, **fit_params)\n",
      "  File \"/mnt/c/users/chris/desktop/atomprojects/cs4448/cs4448/lib/python3.8/site-packages/sklearn/pipeline.py\", line 390, in fit\n",
      "    Xt = self._fit(X, y, **fit_params_steps)\n",
      "  File \"/mnt/c/users/chris/desktop/atomprojects/cs4448/cs4448/lib/python3.8/site-packages/sklearn/pipeline.py\", line 348, in _fit\n",
      "    X, fitted_transformer = fit_transform_one_cached(\n",
      "  File \"/mnt/c/users/chris/desktop/atomprojects/cs4448/cs4448/lib/python3.8/site-packages/joblib/memory.py\", line 352, in __call__\n",
      "    return self.func(*args, **kwargs)\n",
      "  File \"/mnt/c/users/chris/desktop/atomprojects/cs4448/cs4448/lib/python3.8/site-packages/sklearn/pipeline.py\", line 891, in _fit_transform_one\n",
      "    res = transformer.fit_transform(X, y, **fit_params)\n",
      "  File \"/mnt/c/users/chris/desktop/atomprojects/cs4448/cs4448/lib/python3.8/site-packages/sklearn/feature_extraction/text.py\", line 2069, in fit_transform\n",
      "    X = super().fit_transform(raw_documents)\n",
      "  File \"/mnt/c/users/chris/desktop/atomprojects/cs4448/cs4448/lib/python3.8/site-packages/sklearn/feature_extraction/text.py\", line 1335, in fit_transform\n",
      "    raise ValueError(\"max_df corresponds to < documents than min_df\")\n",
      "ValueError: max_df corresponds to < documents than min_df\n",
      "\n",
      "  warnings.warn(some_fits_failed_message, FitFailedWarning)\n",
      "/mnt/c/users/chris/desktop/atomprojects/cs4448/cs4448/lib/python3.8/site-packages/sklearn/model_selection/_search.py:969: UserWarning: One or more of the test scores are non-finite: [0.86260211 0.70156636 0.58877835 0.86280215 0.70062317 0.60672839\n",
      " 0.54438943        nan        nan 0.84316573 0.70159494 0.58877835\n",
      " 0.84322288 0.70059459 0.60675698 0.54433227        nan        nan\n",
      " 0.8290172  0.70159494 0.58877835 0.82873137 0.70059459 0.60675698\n",
      " 0.54433227        nan        nan]\n",
      "  warnings.warn(\n"
     ]
    }
   ],
   "source": [
    "from sklearn.model_selection import GridSearchCV\n",
    "\n",
    "parameters = {\n",
    "    'tfidf__min_df': (0, 0.1, 0.25),\n",
    "    'tfidf__max_df': (0.5, 0.75, 1),\n",
    "#     'tfidf__ngram_range': [(1, 1), (1, 2)],\n",
    "    'clf__alpha': (1, 1e-2, 1e-3)\n",
    "}\n",
    "\n",
    "grid_search = GridSearchCV(pipe_nb, parameters, cv=5,n_jobs=5)\n",
    "grid_search.fit(X_train, y_train)\n",
    "\n",
    "predicted_sentiment = grid_search.predict(X_test)\n",
    "predicted_sentiment_train = grid_search.predict(X_train)"
   ]
  },
  {
   "cell_type": "code",
   "execution_count": 11,
   "id": "ce185758",
   "metadata": {},
   "outputs": [
    {
     "name": "stdout",
     "output_type": "stream",
     "text": [
      "The train set accuracy is 0.910764305722289\n",
      "The test set accuracy is 0.8692143524076297\n",
      "Best Parameters: {'clf__alpha': 1, 'tfidf__max_df': 0.75, 'tfidf__min_df': 0}\n"
     ]
    },
    {
     "data": {
      "image/png": "[encoded data removed]",
      "text/plain": [
       "<Figure size 432x288 with 2 Axes>"
      ]
     },
     "metadata": {
      "needs_background": "light"
     },
     "output_type": "display_data"
    }
   ],
   "source": [
    "from sklearn.metrics import accuracy_score\n",
    "print(f\"The train set accuracy is {accuracy_score(y_train, predicted_sentiment_train)}\")\n",
    "print(f\"The test set accuracy is {accuracy_score(y_test, predicted_sentiment)}\")\n",
    "\n",
    "cm = confusion_matrix(y_test, predicted_sentiment)\n",
    "sns.heatmap(cm, annot=True, fmt=\"d\", xticklabels=['neg', 'pos'], yticklabels=['neg', 'pos'])\n",
    "print(f\"Best Parameters: {grid_search.best_params_}\")"
   ]
  },
  {
   "cell_type": "markdown",
   "id": "bb2232f5",
   "metadata": {},
   "source": [
    "Tuning TfidfVectorizer \"max_feature\" parameter:"
   ]
  },
  {
   "cell_type": "code",
   "execution_count": 12,
   "id": "587f375a",
   "metadata": {},
   "outputs": [
    {
     "data": {
      "text/plain": [
       "GridSearchCV(cv=3,\n",
       "             estimator=Pipeline(steps=[('tfidf',\n",
       "                                        TfidfVectorizer(max_df=0.75, min_df=0,\n",
       "                                                        stop_words='english')),\n",
       "                                       ('clf', MultinomialNB(alpha=1))]),\n",
       "             n_jobs=5,\n",
       "             param_grid={'tfidf__max_features': range(5000, 80001, 5000)},\n",
       "             scoring='accuracy')"
      ]
     },
     "execution_count": 12,
     "metadata": {},
     "output_type": "execute_result"
    }
   ],
   "source": [
    "parameters = {\n",
    "    'tfidf__max_features': range(5000,80001,5000)\n",
    "}\n",
    "\n",
    "grid_search = GridSearchCV(grid_search.best_estimator_, parameters, cv=3,n_jobs=5,scoring='accuracy')\n",
    "grid_search.fit(X_train, y_train)"
   ]
  },
  {
   "cell_type": "code",
   "execution_count": 13,
   "id": "0adb18b0",
   "metadata": {},
   "outputs": [
    {
     "data": {
      "text/plain": [
       "Pipeline(steps=[('tfidf',\n",
       "                 TfidfVectorizer(max_df=0.75, max_features=70000, min_df=0,\n",
       "                                 stop_words='english')),\n",
       "                ('clf', MultinomialNB(alpha=1))])"
      ]
     },
     "execution_count": 13,
     "metadata": {},
     "output_type": "execute_result"
    }
   ],
   "source": [
    "grid_search.best_estimator_"
   ]
  },
  {
   "cell_type": "code",
   "execution_count": 14,
   "id": "26342ca3",
   "metadata": {},
   "outputs": [
    {
     "data": {
      "image/png": "[encoded data removed]",
      "text/plain": [
       "<Figure size 432x288 with 1 Axes>"
      ]
     },
     "metadata": {
      "needs_background": "light"
     },
     "output_type": "display_data"
    },
    {
     "data": {
      "image/png": "[encoded data removed]",
      "text/plain": [
       "<Figure size 432x288 with 1 Axes>"
      ]
     },
     "metadata": {
      "needs_background": "light"
     },
     "output_type": "display_data"
    },
    {
     "data": {
      "image/png": "[encoded data removed]",
      "text/plain": [
       "<Figure size 432x288 with 1 Axes>"
      ]
     },
     "metadata": {
      "needs_background": "light"
     },
     "output_type": "display_data"
    }
   ],
   "source": [
    "plt.plot(grid_search.param_grid['tfidf__max_features'],grid_search.cv_results_['mean_fit_time'],'b-')\n",
    "plt.plot(grid_search.param_grid['tfidf__max_features'],grid_search.cv_results_['mean_score_time'],'g-')\n",
    "plt.xlabel('TfidfVectorizer max_features')\n",
    "plt.ylabel('Cross Validation Computation Time')\n",
    "plt.legend(['Fit','Score'])\n",
    "plt.show()\n",
    "\n",
    "plt.plot(grid_search.param_grid['tfidf__max_features'],grid_search.cv_results_['mean_score_time'])\n",
    "plt.xlabel('TfidfVectorizer max_features')\n",
    "plt.ylabel('Cross Validation Score Time')\n",
    "plt.show()\n",
    "\n",
    "plt.plot(grid_search.param_grid['tfidf__max_features'],grid_search.cv_results_['mean_fit_time'])\n",
    "plt.xlabel('TfidfVectorizer max_features')\n",
    "plt.ylabel('Cross Validation Fit Time')\n",
    "plt.show()"
   ]
  },
  {
   "cell_type": "code",
   "execution_count": 15,
   "id": "41d8e9b9",
   "metadata": {
    "scrolled": true
   },
   "outputs": [
    {
     "data": {
      "image/png": "[encoded data removed]",
      "text/plain": [
       "<Figure size 432x288 with 1 Axes>"
      ]
     },
     "metadata": {
      "needs_background": "light"
     },
     "output_type": "display_data"
    }
   ],
   "source": [
    "plt.plot(grid_search.param_grid['tfidf__max_features'],grid_search.cv_results_['mean_test_score'])\n",
    "plt.xlabel('TfidfVectorizer max_features')\n",
    "plt.ylabel('Cross Validation Accuracy')\n",
    "plt.show()"
   ]
  },
  {
   "cell_type": "markdown",
   "id": "0ec11b40",
   "metadata": {},
   "source": [
    "### Not sure if these make sense - Let me know what you think"
   ]
  },
  {
   "cell_type": "code",
   "execution_count": 23,
   "id": "661221a3",
   "metadata": {},
   "outputs": [
    {
     "data": {
      "image/png": "[encoded data removed]",
      "text/plain": [
       "<Figure size 432x288 with 1 Axes>"
      ]
     },
     "metadata": {
      "needs_background": "light"
     },
     "output_type": "display_data"
    }
   ],
   "source": [
    "accuracy_gain = grid_search.cv_results_['mean_test_score'] - np.array([0,\n",
    "                                                                       *grid_search.cv_results_['mean_test_score'][0:len(grid_search.cv_results_['mean_test_score'])-1]])\n",
    "\n",
    "#Elbow method on this plot to determine optimal number of features based on diminishing accuracy gains?\n",
    "plt.plot(grid_search.param_grid['tfidf__max_features'][1:], accuracy_gain[1:])\n",
    "plt.xlabel('TfidfVectorizer max_features')\n",
    "plt.ylabel('Increase in Accuracy')\n",
    "plt.show()\n"
   ]
  },
  {
   "cell_type": "markdown",
   "id": "67f2f7ea",
   "metadata": {},
   "source": [
    "Hyperparameter Tuning Random Forest"
   ]
  },
  {
   "cell_type": "markdown",
   "id": "9ab358bf",
   "metadata": {},
   "source": [
    "parameters = {\n",
    "    'tfidf__max_df': (0.25, 0.5, 0.75),\n",
    "    'tfidf__ngram_range': [(1, 1), (1, 2), (1, 3)],\n",
    "    'clf__n_estimators': (50, 100, 150, 200)\n",
    "}\n",
    "\n",
    "grid_search = GridSearchCV(pipe_rf, parameters, cv=5, n_jobs=12)\n",
    "grid_search.fit(X_train, y_train)\n",
    "\n",
    "predicted_sentiment = grid_search.predict(X_test)\n",
    "\n",
    "\n",
    "cm = confusion_matrix(y_test, predicted_sentiment)\n",
    "sns.heatmap(cm, annot=True, fmt=\"d\", xticklabels=['neg', 'pos'], yticklabels=['neg', 'pos'])\n",
    "\n",
    "\n",
    "predicted_sentiment_train = grid_search.predict(X_train)\n",
    "\n",
    "print(f\"The train set accuracy is {accuracy_score(y_train, predicted_sentiment_train)}\")\n",
    "print(f\"The test set accuracy is {accuracy_score(y_test, predicted_sentiment)}\")\n",
    "\n",
    "print(f\"Best Parameters: {grid_search.best_params_}\")"
   ]
  },
  {
   "cell_type": "markdown",
   "id": "37509ab3",
   "metadata": {},
   "source": [
    "Hyperparameter Tuning XGBoost"
   ]
  },
  {
   "cell_type": "markdown",
   "id": "de19f9ac",
   "metadata": {},
   "source": [
    "parameters = {\n",
    "    'tfidf__max_df': (0.25, 0.5, 0.75),\n",
    "    'tfidf__ngram_range': [(1, 1), (1, 2), (1, 3)],\n",
    "    'clf__n_estimators': (50, 100, 150, 200)\n",
    "}\n",
    "\n",
    "grid_search = GridSearchCV(pipe_xgb, parameters, cv=5)\n",
    "grid_search.fit(X_train, y_train)\n",
    "\n",
    "predicted_sentiment = grid_search.predict(X_test)\n",
    "\n",
    "\n",
    "cm = confusion_matrix(y_test, predicted_sentiment)\n",
    "sns.heatmap(cm, annot=True, fmt=\"d\", xticklabels=['neg', 'pos'], yticklabels=['neg', 'pos'])\n",
    "\n",
    "\n",
    "predicted_sentiment_train = grid_search.predict(X_train)\n",
    "\n",
    "print(f\"The train set accuracy is {accuracy_score(y_train, predicted_sentiment_train)}\")\n",
    "print(f\"The test set accuracy is {accuracy_score(y_test, predicted_sentiment)}\")\n",
    "\n",
    "print(f\"Best Parameters: {grid_search.best_params_}\")"
   ]
  }
 ],
 "metadata": {
  "interpreter": {
   "hash": "0f0f8e84468ea63ed105c51173759ab306d7febc690072ee3c51ba3603401a98"
  },
  "kernelspec": {
   "display_name": "Python 3",
   "language": "python",
   "name": "python3"
  },
  "language_info": {
   "codemirror_mode": {
    "name": "ipython",
    "version": 3
   },
   "file_extension": ".py",
   "mimetype": "text/x-python",
   "name": "python",
   "nbconvert_exporter": "python",
   "pygments_lexer": "ipython3",
   "version": "3.8.10"
  }
 },
 "nbformat": 4,
 "nbformat_minor": 5
}
