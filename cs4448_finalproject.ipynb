{
 "cells": [
  {
   "cell_type": "code",
   "execution_count": 2,
   "id": "211f4623",
   "metadata": {},
   "outputs": [
    {
     "name": "stderr",
     "output_type": "stream",
     "text": [
      "[nltk_data] Downloading package stopwords to\n",
      "[nltk_data]     C:\\Users\\Hafez\\AppData\\Roaming\\nltk_data...\n",
      "[nltk_data]   Package stopwords is already up-to-date!\n",
      "[nltk_data] Downloading package averaged_perceptron_tagger to\n",
      "[nltk_data]     C:\\Users\\Hafez\\AppData\\Roaming\\nltk_data...\n",
      "[nltk_data]   Package averaged_perceptron_tagger is already up-to-\n",
      "[nltk_data]       date!\n"
     ]
    },
    {
     "data": {
      "text/plain": [
       "True"
      ]
     },
     "execution_count": 2,
     "metadata": {},
     "output_type": "execute_result"
    }
   ],
   "source": [
    "import pandas as pd\n",
    "import numpy as np\n",
    "import matplotlib.pyplot as plt\n",
    "import seaborn as sns\n",
    "import os\n",
    "import glob\n",
    "\n",
    "import nltk\n",
    "from nltk.stem import WordNetLemmatizer\n",
    "from nltk.corpus import wordnet\n",
    "import string\n",
    "import re\n",
    "\n",
    "nltk.download('stopwords')\n",
    "nltk.download('averaged_perceptron_tagger')"
   ]
  },
  {
   "cell_type": "code",
   "execution_count": null,
   "id": "d54cd77e",
   "metadata": {},
   "outputs": [],
   "source": [
    "netl = WordNetLemmatizer()\n",
    "\n",
    "def nltk_tag_pos(tag):   \n",
    "    #adapted from https://stackoverflow.com/questions/15586721/wordnet-lemmatization-and-pos-tagging-in-python\n",
    "    if tag[0]=='J':\n",
    "        return wordnet.ADJ\n",
    "    elif tag[0]=='V':\n",
    "        return wordnet.VERB\n",
    "    elif tag[0]=='N':\n",
    "        return wordnet.NOUN\n",
    "    elif tag[0]=='R':\n",
    "        return wordnet.ADV\n",
    "    else:          \n",
    "        return wordnet.NOUN #noun is default lemmatize POS\n",
    "    \n",
    "train_text_POS = [nltk.pos_tag(i) for i in train_text]    \n",
    "train_text = [[wnetl.lemmatize(i[0],nltk_tag_pos(i[1]))  if i[0] != 'us' else i[0] for i in j] for j in train_text_POS]\n",
    "traindf['cleaned_tweet_length'] = [len(w) for w in train_text]\n",
    "train_text = [' '.join(train_text[i]) for i in range(len(train_text))]"
   ]
  },
  {
   "cell_type": "code",
   "execution_count": 47,
   "id": "20a167bc",
   "metadata": {},
   "outputs": [],
   "source": [
    "sw = set(nltk.corpus.stopwords.words('english'))\n",
    "\n",
    "def nltk_tag_pos(tag):   \n",
    "    #adapted from https://stackoverflow.com/questions/15586721/wordnet-lemmatization-and-pos-tagging-in-python\n",
    "    if tag[0]=='J':\n",
    "        return wordnet.ADJ\n",
    "    elif tag[0]=='V':\n",
    "        return wordnet.VERB\n",
    "    elif tag[0]=='N':\n",
    "        return wordnet.NOUN\n",
    "    elif tag[0]=='R':\n",
    "        return wordnet.ADV\n",
    "    else:          \n",
    "        return wordnet.NOUN #noun is default lemmatize POS\n",
    "\n",
    "def clean(text, stopwords):\n",
    "    # remove tags like <tab>    \n",
    "    text = re.sub(r'<[^<>]*>', ' ', text)  \n",
    "    # split text on whitespace\n",
    "    text_list = text.split()\n",
    "    text_words = []\n",
    "    wnetl = WordNetLemmatizer()\n",
    "    punctuation = set(string.punctuation)\n",
    "    \n",
    "    # keep #tags and @mentions \n",
    "    ## punctuation.remove(\"#\")\n",
    "    ## punctuation.remove(\"@\")\n",
    "\n",
    "    text_POS = nltk.pos_tag(text_list)\n",
    "#     print(text_POS)\n",
    "    text_list = [wnetl.lemmatize(i[0],nltk_tag_pos(i[1])) for i in text_POS]\n",
    "    \n",
    "    for word in text_list:\n",
    "        # remove punctuation marks at the beginning  \n",
    "        # of each word\n",
    "        while len(word) > 0 and word[0] in punctuation:\n",
    "            word = word[1:]\n",
    "        \n",
    "        # remove punctuation marks at the end of each word\n",
    "        while len(word) > 0 and word[-1] in punctuation:\n",
    "            word = word[:-1]\n",
    "        \n",
    "        # a rule to eliminate most urls \n",
    "        if len(word) > 0 and \"/\" not in word:\n",
    "            # eliminate stopwords \n",
    "            if word.lower() not in stopwords:\n",
    "                # append the word to the text_words list\n",
    "                text_words.append(word.lower())\n",
    "        cleaner_text = \" \".join(text_words)\n",
    "    return cleaner_text"
   ]
  },
  {
   "cell_type": "code",
   "execution_count": null,
   "id": "56418d95",
   "metadata": {
    "scrolled": true
   },
   "outputs": [],
   "source": [
    "def ingest_and_clean_data():\n",
    "    from pathlib import Path\n",
    "\n",
    "    file_list_pos = [path for path in Path('imdb').rglob('*/pos/*.txt')]\n",
    "    file_list_neg = [path for path in Path('imdb').rglob('*/neg/*.txt')]\n",
    "\n",
    "    corpus_positive = [open(f, encoding=\"utf8\").read() for f in file_list_pos]\n",
    "    corpus_negative = [open(f, encoding=\"utf8\").read() for f in file_list_neg]\n",
    "\n",
    "    df = pd.DataFrame(corpus_positive, columns=['text'])\n",
    "    df['sentiment'] = 'pos'\n",
    "\n",
    "    df2 = pd.DataFrame(corpus_negative, columns=['text'])\n",
    "    df2['sentiment'] = 'neg'\n",
    "\n",
    "    df = df.append(df2)\n",
    "\n",
    "    df['length'] = df.text.str.len()\n",
    "    df = df[df.length >= 100]\n",
    "    df.drop(['length'], axis=1, inplace=True)\n",
    "\n",
    "    print(df.iloc[0])\n",
    "    df.to_pickle('raw_reviews.pkl')\n",
    "    df['text'] = df['text'].apply(clean, stopwords=sw)\n",
    "    print(df.iloc[0])\n",
    "\n",
    "    df.to_pickle('reviews.pkl')"
   ]
  },
  {
   "cell_type": "code",
   "execution_count": 3,
   "id": "438f32ec",
   "metadata": {},
   "outputs": [
    {
     "data": {
      "text/html": [
       "<div>\n",
       "<style scoped>\n",
       "    .dataframe tbody tr th:only-of-type {\n",
       "        vertical-align: middle;\n",
       "    }\n",
       "\n",
       "    .dataframe tbody tr th {\n",
       "        vertical-align: top;\n",
       "    }\n",
       "\n",
       "    .dataframe thead th {\n",
       "        text-align: right;\n",
       "    }\n",
       "</style>\n",
       "<table border=\"1\" class=\"dataframe\">\n",
       "  <thead>\n",
       "    <tr style=\"text-align: right;\">\n",
       "      <th></th>\n",
       "      <th>text</th>\n",
       "      <th>sentiment</th>\n",
       "    </tr>\n",
       "  </thead>\n",
       "  <tbody>\n",
       "    <tr>\n",
       "      <th>0</th>\n",
       "      <td>I went and saw this movie last night after bei...</td>\n",
       "      <td>pos</td>\n",
       "    </tr>\n",
       "    <tr>\n",
       "      <th>1</th>\n",
       "      <td>Actor turned director Bill Paxton follows up h...</td>\n",
       "      <td>pos</td>\n",
       "    </tr>\n",
       "    <tr>\n",
       "      <th>2</th>\n",
       "      <td>As a recreational golfer with some knowledge o...</td>\n",
       "      <td>pos</td>\n",
       "    </tr>\n",
       "    <tr>\n",
       "      <th>3</th>\n",
       "      <td>I saw this film in a sneak preview, and it is ...</td>\n",
       "      <td>pos</td>\n",
       "    </tr>\n",
       "    <tr>\n",
       "      <th>4</th>\n",
       "      <td>Bill Paxton has taken the true story of the 19...</td>\n",
       "      <td>pos</td>\n",
       "    </tr>\n",
       "    <tr>\n",
       "      <th>...</th>\n",
       "      <td>...</td>\n",
       "      <td>...</td>\n",
       "    </tr>\n",
       "    <tr>\n",
       "      <th>24995</th>\n",
       "      <td>Towards the end of the movie, I felt it was to...</td>\n",
       "      <td>neg</td>\n",
       "    </tr>\n",
       "    <tr>\n",
       "      <th>24996</th>\n",
       "      <td>This is the kind of movie that my enemies cont...</td>\n",
       "      <td>neg</td>\n",
       "    </tr>\n",
       "    <tr>\n",
       "      <th>24997</th>\n",
       "      <td>I saw 'Descent' last night at the Stockholm Fi...</td>\n",
       "      <td>neg</td>\n",
       "    </tr>\n",
       "    <tr>\n",
       "      <th>24998</th>\n",
       "      <td>Some films that you pick up for a pound turn o...</td>\n",
       "      <td>neg</td>\n",
       "    </tr>\n",
       "    <tr>\n",
       "      <th>24999</th>\n",
       "      <td>This is one of the dumbest films, I've ever se...</td>\n",
       "      <td>neg</td>\n",
       "    </tr>\n",
       "  </tbody>\n",
       "</table>\n",
       "<p>49980 rows × 2 columns</p>\n",
       "</div>"
      ],
      "text/plain": [
       "                                                    text sentiment\n",
       "0      I went and saw this movie last night after bei...       pos\n",
       "1      Actor turned director Bill Paxton follows up h...       pos\n",
       "2      As a recreational golfer with some knowledge o...       pos\n",
       "3      I saw this film in a sneak preview, and it is ...       pos\n",
       "4      Bill Paxton has taken the true story of the 19...       pos\n",
       "...                                                  ...       ...\n",
       "24995  Towards the end of the movie, I felt it was to...       neg\n",
       "24996  This is the kind of movie that my enemies cont...       neg\n",
       "24997  I saw 'Descent' last night at the Stockholm Fi...       neg\n",
       "24998  Some films that you pick up for a pound turn o...       neg\n",
       "24999  This is one of the dumbest films, I've ever se...       neg\n",
       "\n",
       "[49980 rows x 2 columns]"
      ]
     },
     "execution_count": 3,
     "metadata": {},
     "output_type": "execute_result"
    }
   ],
   "source": [
    "df2 = pd.read_pickle('raw_reviews.pkl')\n",
    "df2"
   ]
  },
  {
   "cell_type": "code",
   "execution_count": 48,
   "id": "4bbeb59c",
   "metadata": {},
   "outputs": [
    {
     "name": "stdout",
     "output_type": "stream",
     "text": [
      "text         go saw movie last night coax friend mine i'll ...\n",
      "sentiment                                                  pos\n",
      "Name: 0, dtype: object\n"
     ]
    }
   ],
   "source": [
    "df = pd.read_pickle('raw_reviews.pkl')\n",
    "df['text'] = df['text'].apply(clean, stopwords=sw)\n",
    "print(df.iloc[0])\n",
    "\n",
    "df.to_pickle('reviews.pkl')"
   ]
  },
  {
   "cell_type": "code",
   "execution_count": null,
   "id": "604491bd",
   "metadata": {},
   "outputs": [],
   "source": [
    "# ingest_and_clean_data()"
   ]
  },
  {
   "cell_type": "code",
   "execution_count": 2,
   "id": "2e3fd61d",
   "metadata": {},
   "outputs": [
    {
     "data": {
      "text/html": [
       "<div>\n",
       "<style scoped>\n",
       "    .dataframe tbody tr th:only-of-type {\n",
       "        vertical-align: middle;\n",
       "    }\n",
       "\n",
       "    .dataframe tbody tr th {\n",
       "        vertical-align: top;\n",
       "    }\n",
       "\n",
       "    .dataframe thead th {\n",
       "        text-align: right;\n",
       "    }\n",
       "</style>\n",
       "<table border=\"1\" class=\"dataframe\">\n",
       "  <thead>\n",
       "    <tr style=\"text-align: right;\">\n",
       "      <th></th>\n",
       "      <th>text</th>\n",
       "      <th>sentiment</th>\n",
       "    </tr>\n",
       "  </thead>\n",
       "  <tbody>\n",
       "    <tr>\n",
       "      <th>0</th>\n",
       "      <td>go saw movie last night coax friend mine i'll ...</td>\n",
       "      <td>pos</td>\n",
       "    </tr>\n",
       "    <tr>\n",
       "      <th>1</th>\n",
       "      <td>actor turn director bill paxton follow promisi...</td>\n",
       "      <td>pos</td>\n",
       "    </tr>\n",
       "    <tr>\n",
       "      <th>2</th>\n",
       "      <td>recreational golfer knowledge sport's history ...</td>\n",
       "      <td>pos</td>\n",
       "    </tr>\n",
       "    <tr>\n",
       "      <th>3</th>\n",
       "      <td>saw film sneak preview delightful cinematograp...</td>\n",
       "      <td>pos</td>\n",
       "    </tr>\n",
       "    <tr>\n",
       "      <th>4</th>\n",
       "      <td>bill paxton take true story 1913 us golf open ...</td>\n",
       "      <td>pos</td>\n",
       "    </tr>\n",
       "    <tr>\n",
       "      <th>...</th>\n",
       "      <td>...</td>\n",
       "      <td>...</td>\n",
       "    </tr>\n",
       "    <tr>\n",
       "      <th>24995</th>\n",
       "      <td>towards end movie felt technical felt like cla...</td>\n",
       "      <td>neg</td>\n",
       "    </tr>\n",
       "    <tr>\n",
       "      <th>24996</th>\n",
       "      <td>kind movie enemy content watch time bloody tru...</td>\n",
       "      <td>neg</td>\n",
       "    </tr>\n",
       "    <tr>\n",
       "      <th>24997</th>\n",
       "      <td>saw descent last night stockholm film festival...</td>\n",
       "      <td>neg</td>\n",
       "    </tr>\n",
       "    <tr>\n",
       "      <th>24998</th>\n",
       "      <td>film pick pound turn rather good 23rd century ...</td>\n",
       "      <td>neg</td>\n",
       "    </tr>\n",
       "    <tr>\n",
       "      <th>24999</th>\n",
       "      <td>one dumb films i've ever seen rip nearly ever ...</td>\n",
       "      <td>neg</td>\n",
       "    </tr>\n",
       "  </tbody>\n",
       "</table>\n",
       "<p>49980 rows × 2 columns</p>\n",
       "</div>"
      ],
      "text/plain": [
       "                                                    text sentiment\n",
       "0      go saw movie last night coax friend mine i'll ...       pos\n",
       "1      actor turn director bill paxton follow promisi...       pos\n",
       "2      recreational golfer knowledge sport's history ...       pos\n",
       "3      saw film sneak preview delightful cinematograp...       pos\n",
       "4      bill paxton take true story 1913 us golf open ...       pos\n",
       "...                                                  ...       ...\n",
       "24995  towards end movie felt technical felt like cla...       neg\n",
       "24996  kind movie enemy content watch time bloody tru...       neg\n",
       "24997  saw descent last night stockholm film festival...       neg\n",
       "24998  film pick pound turn rather good 23rd century ...       neg\n",
       "24999  one dumb films i've ever seen rip nearly ever ...       neg\n",
       "\n",
       "[49980 rows x 2 columns]"
      ]
     },
     "execution_count": 2,
     "metadata": {},
     "output_type": "execute_result"
    }
   ],
   "source": [
    "df = pd.read_pickle('reviews.pkl')\n",
    "# df['sentiment']=(df['sentiment']=='pos').astype(int)\n",
    "df"
   ]
  },
  {
   "cell_type": "code",
   "execution_count": 50,
   "id": "8f35c4c2",
   "metadata": {},
   "outputs": [],
   "source": [
    "from sklearn.model_selection import train_test_split\n",
    "\n",
    "X_train, X_test, y_train, y_test = train_test_split(df['text'], df['sentiment'], test_size=0.3, random_state=123)"
   ]
  },
  {
   "cell_type": "markdown",
   "id": "c879f8b5",
   "metadata": {},
   "source": [
    "Trying Multinomial Naive Bayes"
   ]
  },
  {
   "cell_type": "code",
   "execution_count": 53,
   "id": "cea3987c",
   "metadata": {},
   "outputs": [
    {
     "name": "stdout",
     "output_type": "stream",
     "text": [
      "The train set accuracy is 0.856799735713297\n"
     ]
    },
    {
     "data": {
      "image/png": "[encoded data removed]",
      "text/plain": [
       "<Figure size 432x288 with 2 Axes>"
      ]
     },
     "metadata": {
      "needs_background": "light"
     },
     "output_type": "display_data"
    }
   ],
   "source": [
    "from sklearn.pipeline import Pipeline\n",
    "from sklearn.feature_extraction.text import TfidfVectorizer\n",
    "from sklearn.naive_bayes import MultinomialNB\n",
    "from sklearn.metrics import confusion_matrix\n",
    "# from sklearn.metrics import accuracy_score \n",
    "from sklearn.model_selection import cross_val_score, cross_val_predict\n",
    "\n",
    "pipe_nb = Pipeline([('tfidf', TfidfVectorizer(stop_words=\"english\")), ('clf', MultinomialNB())])\n",
    "\n",
    "pipe_nb.fit(X_train, y_train)\n",
    "\n",
    "cv_acc_score = np.mean(cross_val_score(pipe_nb, X_train, y_train, scoring='accuracy'))\n",
    "\n",
    "# predicted_sentiment = pipe_nb.predict(X_test)\n",
    "\n",
    "predicted_sentiment_train = cross_val_predict(pipe_nb,X_train,y_train)\n",
    "\n",
    "\n",
    "\n",
    "cm = confusion_matrix(y_train, predicted_sentiment_train)\n",
    "sns.heatmap(cm, annot=True, fmt=\"d\", xticklabels=['neg', 'pos'], yticklabels=['neg', 'pos'])\n",
    "\n",
    "\n",
    "print(f\"The train set accuracy is {cv_acc_score}\")\n",
    "# print(f\"The test set accuracy is {accuracy_score(y_test, predicted_sentiment)}\")"
   ]
  },
  {
   "cell_type": "code",
   "execution_count": 54,
   "id": "46369fa0",
   "metadata": {},
   "outputs": [
    {
     "name": "stderr",
     "output_type": "stream",
     "text": [
      "/mnt/c/users/chris/desktop/atomprojects/cs4448/cs4448/lib/python3.8/site-packages/sklearn/utils/deprecation.py:87: FutureWarning: Function get_feature_names is deprecated; get_feature_names is deprecated in 1.0 and will be removed in 1.2. Please use get_feature_names_out instead.\n",
      "  warnings.warn(msg, category=FutureWarning)\n"
     ]
    },
    {
     "data": {
      "text/plain": [
       "82560"
      ]
     },
     "execution_count": 54,
     "metadata": {},
     "output_type": "execute_result"
    }
   ],
   "source": [
    "len(pipe_nb.steps[0][1].get_feature_names())"
   ]
  },
  {
   "cell_type": "markdown",
   "id": "2c8acaf3",
   "metadata": {},
   "source": [
    "Trying Random Forest"
   ]
  },
  {
   "cell_type": "code",
   "execution_count": 55,
   "id": "1295abca",
   "metadata": {},
   "outputs": [
    {
     "name": "stdout",
     "output_type": "stream",
     "text": [
      "The train set accuracy is 0.8469388158555521\n"
     ]
    },
    {
     "data": {
      "image/png": "[encoded data removed]",
      "text/plain": [
       "<Figure size 432x288 with 2 Axes>"
      ]
     },
     "metadata": {
      "needs_background": "light"
     },
     "output_type": "display_data"
    }
   ],
   "source": [
    "from sklearn.ensemble import RandomForestClassifier\n",
    "\n",
    "pipe_rf = Pipeline([('tfidf', TfidfVectorizer(stop_words=\"english\")), ('clf', RandomForestClassifier(n_jobs=5))])\n",
    "\n",
    "pipe_rf.fit(X_train, y_train)\n",
    "\n",
    "cv_acc_score = np.mean(cross_val_score(pipe_rf, X_train, y_train, scoring='accuracy'))\n",
    "\n",
    "# predicted_sentiment = pipe_nb.predict(X_test)\n",
    "\n",
    "predicted_sentiment_train = cross_val_predict(pipe_rf,X_train,y_train)\n",
    "\n",
    "cm = confusion_matrix(y_train, predicted_sentiment_train)\n",
    "sns.heatmap(cm, annot=True, fmt=\"d\", xticklabels=['neg', 'pos'], yticklabels=['neg', 'pos'])\n",
    "\n",
    "print(f\"The train set accuracy is {cv_acc_score}\")\n",
    "# print(f\"The test set accuracy is {accuracy_score(y_test, predicted_sentiment)}\")"
   ]
  },
  {
   "cell_type": "markdown",
   "id": "5e4471dd",
   "metadata": {},
   "source": [
    "Trying XGBoost"
   ]
  },
  {
   "cell_type": "code",
   "execution_count": 56,
   "id": "110f552a",
   "metadata": {},
   "outputs": [
    {
     "name": "stdout",
     "output_type": "stream",
     "text": [
      "The train set accuracy is 0.8472529667411866\n"
     ]
    },
    {
     "data": {
      "image/png": "[encoded data removed]",
      "text/plain": [
       "<Figure size 432x288 with 2 Axes>"
      ]
     },
     "metadata": {
      "needs_background": "light"
     },
     "output_type": "display_data"
    }
   ],
   "source": [
    "from xgboost import XGBClassifier\n",
    "pipe_xgb = Pipeline([('tfidf', TfidfVectorizer(stop_words=\"english\")),\n",
    "                     ('clf', XGBClassifier(objective='binary:logistic', use_label_encoder=True,eval_metric='error',n_jobs=5))])\n",
    "\n",
    "\n",
    "import warnings\n",
    "warnings.filterwarnings(\"ignore\") #ignore lot of xgb UserWarnings that don't affect results\n",
    "\n",
    "pipe_xgb.fit(X_train, y_train)\n",
    "\n",
    "cv_acc_score = np.mean(cross_val_score(pipe_xgb, X_train, y_train, scoring='accuracy'))\n",
    "\n",
    "# predicted_sentiment = pipe_nb.predict(X_test)\n",
    "predicted_sentiment_train = cross_val_predict(pipe_xgb,X_train,y_train)\n",
    "warnings.filterwarnings(\"default\")\n",
    "\n",
    "cm = confusion_matrix(y_train, predicted_sentiment_train)\n",
    "sns.heatmap(cm, annot=True, fmt=\"d\", xticklabels=['neg', 'pos'], yticklabels=['neg', 'pos'])\n",
    "\n",
    "print(f\"The train set accuracy is {cv_acc_score}\")\n",
    "# print(f\"The test set accuracy is {accuracy_score(y_test, predicted_sentiment)}\")"
   ]
  },
  {
   "cell_type": "markdown",
   "id": "f2a2f37c",
   "metadata": {},
   "source": [
    "## After cross-validation on the Training set: \n",
    "Multinomial Naive Bayes had the best accuracy across the 5 cross-validation folds (approximately 85.6%).  "
   ]
  },
  {
   "cell_type": "markdown",
   "id": "087a0d16",
   "metadata": {},
   "source": [
    "Hyperparameter Tuning Naive Bayes"
   ]
  },
  {
   "cell_type": "code",
   "execution_count": null,
   "id": "d4fea262",
   "metadata": {},
   "outputs": [],
   "source": [
    "from sklearn.model_selection import GridSearchCV\n",
    "\n",
    "parameters = {\n",
    "    'tfidf__min_df': (0, 0.1, 0.25),\n",
    "    'tfidf__max_df': (0.5, 0.75, 1),\n",
    "#     'tfidf__ngram_range': [(1, 1), (1, 2)],\n",
    "    'clf__alpha': (1, 1e-2, 1e-3)\n",
    "}\n",
    "\n",
    "grid_search = GridSearchCV(pipe_nb, parameters, cv=5,n_jobs=5)\n",
    "grid_search.fit(X_train, y_train)\n",
    "\n",
    "predicted_sentiment = grid_search.predict(X_test)\n",
    "predicted_sentiment_train = grid_search.predict(X_train)"
   ]
  },
  {
   "cell_type": "code",
   "execution_count": null,
   "id": "ce185758",
   "metadata": {},
   "outputs": [],
   "source": [
    "from sklearn.metrics import accuracy_score\n",
    "print(f\"The train set accuracy is {accuracy_score(y_train, predicted_sentiment_train)}\")\n",
    "print(f\"The test set accuracy is {accuracy_score(y_test, predicted_sentiment)}\")\n",
    "\n",
    "cm = confusion_matrix(y_test, predicted_sentiment)\n",
    "sns.heatmap(cm, annot=True, fmt=\"d\", xticklabels=['neg', 'pos'], yticklabels=['neg', 'pos'])\n",
    "print(f\"Best Parameters: {grid_search.best_params_}\")"
   ]
  },
  {
   "cell_type": "markdown",
   "id": "bb2232f5",
   "metadata": {},
   "source": [
    "Tuning TfidfVectorizer \"max_feature\" parameter:"
   ]
  },
  {
   "cell_type": "code",
   "execution_count": null,
   "id": "587f375a",
   "metadata": {},
   "outputs": [],
   "source": [
    "parameters = {\n",
    "    'tfidf__max_features': range(5000,80001,5000)\n",
    "}\n",
    "\n",
    "grid_search = GridSearchCV(grid_search.best_estimator_, parameters, cv=3,n_jobs=5,scoring='accuracy')\n",
    "grid_search.fit(X_train, y_train)"
   ]
  },
  {
   "cell_type": "code",
   "execution_count": null,
   "id": "0adb18b0",
   "metadata": {},
   "outputs": [],
   "source": [
    "grid_search.best_estimator_"
   ]
  },
  {
   "cell_type": "code",
   "execution_count": null,
   "id": "26342ca3",
   "metadata": {},
   "outputs": [],
   "source": [
    "plt.plot(grid_search.param_grid['tfidf__max_features'],grid_search.cv_results_['mean_fit_time'],'b-')\n",
    "plt.plot(grid_search.param_grid['tfidf__max_features'],grid_search.cv_results_['mean_score_time'],'g-')\n",
    "plt.xlabel('TfidfVectorizer max_features')\n",
    "plt.ylabel('Cross Validation Computation Time')\n",
    "plt.legend(['Fit','Score'])\n",
    "plt.show()\n",
    "\n",
    "plt.plot(grid_search.param_grid['tfidf__max_features'],grid_search.cv_results_['mean_score_time'])\n",
    "plt.xlabel('TfidfVectorizer max_features')\n",
    "plt.ylabel('Cross Validation Score Time')\n",
    "plt.show()\n",
    "\n",
    "plt.plot(grid_search.param_grid['tfidf__max_features'],grid_search.cv_results_['mean_fit_time'])\n",
    "plt.xlabel('TfidfVectorizer max_features')\n",
    "plt.ylabel('Cross Validation Fit Time')\n",
    "plt.show()"
   ]
  },
  {
   "cell_type": "code",
   "execution_count": null,
   "id": "41d8e9b9",
   "metadata": {
    "scrolled": true
   },
   "outputs": [],
   "source": [
    "plt.plot(grid_search.param_grid['tfidf__max_features'],grid_search.cv_results_['mean_test_score'])\n",
    "plt.xlabel('TfidfVectorizer max_features')\n",
    "plt.ylabel('Cross Validation Accuracy')\n",
    "plt.show()"
   ]
  },
  {
   "cell_type": "markdown",
   "id": "0ec11b40",
   "metadata": {},
   "source": [
    "### Not sure if these make sense - Let me know what you think"
   ]
  },
  {
   "cell_type": "code",
   "execution_count": null,
   "id": "661221a3",
   "metadata": {},
   "outputs": [],
   "source": [
    "accuracy_gain = grid_search.cv_results_['mean_test_score'] - np.array([0,\n",
    "                                                                       *grid_search.cv_results_['mean_test_score'][0:len(grid_search.cv_results_['mean_test_score'])-1]])\n",
    "\n",
    "#Elbow method on this plot to determine optimal number of features based on diminishing accuracy gains?\n",
    "plt.plot(grid_search.param_grid['tfidf__max_features'][1:], accuracy_gain[1:])\n",
    "plt.xlabel('TfidfVectorizer max_features')\n",
    "plt.ylabel('Increase in Accuracy')\n",
    "plt.show()\n"
   ]
  },
  {
   "cell_type": "markdown",
   "id": "67f2f7ea",
   "metadata": {},
   "source": [
    "Hyperparameter Tuning Random Forest"
   ]
  },
  {
   "cell_type": "markdown",
   "id": "9ab358bf",
   "metadata": {},
   "source": [
    "parameters = {\n",
    "    'tfidf__max_df': (0.25, 0.5, 0.75),\n",
    "    'tfidf__ngram_range': [(1, 1), (1, 2), (1, 3)],\n",
    "    'clf__n_estimators': (50, 100, 150, 200)\n",
    "}\n",
    "\n",
    "grid_search = GridSearchCV(pipe_rf, parameters, cv=5, n_jobs=12)\n",
    "grid_search.fit(X_train, y_train)\n",
    "\n",
    "predicted_sentiment = grid_search.predict(X_test)\n",
    "\n",
    "\n",
    "cm = confusion_matrix(y_test, predicted_sentiment)\n",
    "sns.heatmap(cm, annot=True, fmt=\"d\", xticklabels=['neg', 'pos'], yticklabels=['neg', 'pos'])\n",
    "\n",
    "\n",
    "predicted_sentiment_train = grid_search.predict(X_train)\n",
    "\n",
    "print(f\"The train set accuracy is {accuracy_score(y_train, predicted_sentiment_train)}\")\n",
    "print(f\"The test set accuracy is {accuracy_score(y_test, predicted_sentiment)}\")\n",
    "\n",
    "print(f\"Best Parameters: {grid_search.best_params_}\")"
   ]
  },
  {
   "cell_type": "markdown",
   "id": "37509ab3",
   "metadata": {},
   "source": [
    "Hyperparameter Tuning XGBoost"
   ]
  },
  {
   "cell_type": "markdown",
   "id": "de19f9ac",
   "metadata": {},
   "source": [
    "parameters = {\n",
    "    'tfidf__max_df': (0.25, 0.5, 0.75),\n",
    "    'tfidf__ngram_range': [(1, 1), (1, 2), (1, 3)],\n",
    "    'clf__n_estimators': (50, 100, 150, 200)\n",
    "}\n",
    "\n",
    "grid_search = GridSearchCV(pipe_xgb, parameters, cv=5)\n",
    "grid_search.fit(X_train, y_train)\n",
    "\n",
    "predicted_sentiment = grid_search.predict(X_test)\n",
    "\n",
    "\n",
    "cm = confusion_matrix(y_test, predicted_sentiment)\n",
    "sns.heatmap(cm, annot=True, fmt=\"d\", xticklabels=['neg', 'pos'], yticklabels=['neg', 'pos'])\n",
    "\n",
    "\n",
    "predicted_sentiment_train = grid_search.predict(X_train)\n",
    "\n",
    "print(f\"The train set accuracy is {accuracy_score(y_train, predicted_sentiment_train)}\")\n",
    "print(f\"The test set accuracy is {accuracy_score(y_test, predicted_sentiment)}\")\n",
    "\n",
    "print(f\"Best Parameters: {grid_search.best_params_}\")"
   ]
  },
  {
   "cell_type": "code",
   "execution_count": 4,
   "id": "694a6f50",
   "metadata": {},
   "outputs": [],
   "source": [
    "from datasets import Dataset\n",
    "dataset = Dataset.from_pandas(df2.rename(columns={'sentiment':'labels'}))"
   ]
  },
  {
   "cell_type": "code",
   "execution_count": 5,
   "id": "d2db587a",
   "metadata": {},
   "outputs": [],
   "source": [
    "dataset = dataset.remove_columns('__index_level_0__')"
   ]
  },
  {
   "cell_type": "code",
   "execution_count": 6,
   "metadata": {},
   "outputs": [],
   "source": [
    "from datasets import DatasetDict\n",
    "\n",
    "train_test = dataset.train_test_split(test_size=0.3)\n",
    "\n",
    "raw_datasets = DatasetDict({\n",
    "    'train': train_test['train'],\n",
    "    'test': train_test['test']})"
   ]
  },
  {
   "cell_type": "code",
   "execution_count": 8,
   "id": "f05e63e6",
   "metadata": {},
   "outputs": [
    {
     "name": "stderr",
     "output_type": "stream",
     "text": [
      "Some weights of the model checkpoint at allenai/longformer-base-4096 were not used when initializing LongformerForSequenceClassification: ['lm_head.dense.weight', 'lm_head.layer_norm.bias', 'lm_head.dense.bias', 'lm_head.layer_norm.weight', 'lm_head.bias', 'lm_head.decoder.weight']\n",
      "- This IS expected if you are initializing LongformerForSequenceClassification from the checkpoint of a model trained on another task or with another architecture (e.g. initializing a BertForSequenceClassification model from a BertForPreTraining model).\n",
      "- This IS NOT expected if you are initializing LongformerForSequenceClassification from the checkpoint of a model that you expect to be exactly identical (initializing a BertForSequenceClassification model from a BertForSequenceClassification model).\n",
      "Some weights of LongformerForSequenceClassification were not initialized from the model checkpoint at allenai/longformer-base-4096 and are newly initialized: ['classifier.out_proj.bias', 'classifier.dense.weight', 'classifier.dense.bias', 'classifier.out_proj.weight']\n",
      "You should probably TRAIN this model on a down-stream task to be able to use it for predictions and inference.\n"
     ]
    }
   ],
   "source": [
    "from transformers import LongformerForSequenceClassification, LongformerTokenizer\n",
    "\n",
    "model_name = \"allenai/longformer-base-4096\"\n",
    "model = LongformerForSequenceClassification.from_pretrained(model_name, num_labels=2)\n",
    "tokenizer = LongformerTokenizer.from_pretrained(model_name)"
   ]
  },
  {
   "cell_type": "code",
   "execution_count": 9,
   "id": "889a4313",
   "metadata": {},
   "outputs": [
    {
     "name": "stderr",
     "output_type": "stream",
     "text": [
      "100%|██████████| 35/35 [00:49<00:00,  1.41s/ba]\n",
      "100%|██████████| 15/15 [00:20<00:00,  1.35s/ba]\n"
     ]
    }
   ],
   "source": [
    "def tokenize_function(examples):\n",
    "    return tokenizer(examples[\"text\"], padding=\"max_length\", truncation=True)\n",
    "\n",
    "tokenized_datasets = raw_datasets.map(tokenize_function, batched=True)\n",
    "\n",
    "small_train_dataset = tokenized_datasets[\"train\"].shuffle(seed=42).select(range(200))\n",
    "small_eval_dataset = tokenized_datasets[\"test\"].shuffle(seed=42).select(range(200))\n",
    "full_train_dataset = tokenized_datasets[\"train\"]\n",
    "full_eval_dataset = tokenized_datasets[\"test\"]"
   ]
  },
  {
   "cell_type": "code",
   "execution_count": 10,
   "id": "784e7afd",
   "metadata": {},
   "outputs": [
    {
     "name": "stderr",
     "output_type": "stream",
     "text": [
      "The following columns in the training set  don't have a corresponding argument in `LongformerForSequenceClassification.forward` and have been ignored: text.\n",
      "***** Running training *****\n",
      "  Num examples = 200\n",
      "  Num Epochs = 3\n",
      "  Instantaneous batch size per device = 2\n",
      "  Total train batch size (w. parallel, distributed & accumulation) = 2\n",
      "  Gradient Accumulation steps = 1\n",
      "  Total optimization steps = 300\n",
      "  0%|          | 0/300 [00:00<?, ?it/s]Initializing global attention on CLS token...\n"
     ]
    },
    {
     "ename": "KeyError",
     "evalue": "'loss'",
     "output_type": "error",
     "traceback": [
      "\u001b[1;31m---------------------------------------------------------------------------\u001b[0m",
      "\u001b[1;31mKeyError\u001b[0m                                  Traceback (most recent call last)",
      "\u001b[1;32m~\\AppData\\Local\\Temp/ipykernel_16392/3424691771.py\u001b[0m in \u001b[0;36m<module>\u001b[1;34m\u001b[0m\n\u001b[0;32m      7\u001b[0m     \u001b[0mmodel\u001b[0m\u001b[1;33m=\u001b[0m\u001b[0mmodel\u001b[0m\u001b[1;33m,\u001b[0m \u001b[0margs\u001b[0m\u001b[1;33m=\u001b[0m\u001b[0mtraining_args\u001b[0m\u001b[1;33m,\u001b[0m \u001b[0mtrain_dataset\u001b[0m\u001b[1;33m=\u001b[0m\u001b[0msmall_train_dataset\u001b[0m\u001b[1;33m,\u001b[0m \u001b[0meval_dataset\u001b[0m\u001b[1;33m=\u001b[0m\u001b[0msmall_eval_dataset\u001b[0m\u001b[1;33m\u001b[0m\u001b[1;33m\u001b[0m\u001b[0m\n\u001b[0;32m      8\u001b[0m )\n\u001b[1;32m----> 9\u001b[1;33m \u001b[0mtrainer\u001b[0m\u001b[1;33m.\u001b[0m\u001b[0mtrain\u001b[0m\u001b[1;33m(\u001b[0m\u001b[1;33m)\u001b[0m\u001b[1;33m\u001b[0m\u001b[1;33m\u001b[0m\u001b[0m\n\u001b[0m",
      "\u001b[1;32m~\\anaconda3\\envs\\comp4448\\lib\\site-packages\\transformers\\trainer.py\u001b[0m in \u001b[0;36mtrain\u001b[1;34m(self, resume_from_checkpoint, trial, ignore_keys_for_eval, **kwargs)\u001b[0m\n\u001b[0;32m   1314\u001b[0m                         \u001b[0mtr_loss_step\u001b[0m \u001b[1;33m=\u001b[0m \u001b[0mself\u001b[0m\u001b[1;33m.\u001b[0m\u001b[0mtraining_step\u001b[0m\u001b[1;33m(\u001b[0m\u001b[0mmodel\u001b[0m\u001b[1;33m,\u001b[0m \u001b[0minputs\u001b[0m\u001b[1;33m)\u001b[0m\u001b[1;33m\u001b[0m\u001b[1;33m\u001b[0m\u001b[0m\n\u001b[0;32m   1315\u001b[0m                 \u001b[1;32melse\u001b[0m\u001b[1;33m:\u001b[0m\u001b[1;33m\u001b[0m\u001b[1;33m\u001b[0m\u001b[0m\n\u001b[1;32m-> 1316\u001b[1;33m                     \u001b[0mtr_loss_step\u001b[0m \u001b[1;33m=\u001b[0m \u001b[0mself\u001b[0m\u001b[1;33m.\u001b[0m\u001b[0mtraining_step\u001b[0m\u001b[1;33m(\u001b[0m\u001b[0mmodel\u001b[0m\u001b[1;33m,\u001b[0m \u001b[0minputs\u001b[0m\u001b[1;33m)\u001b[0m\u001b[1;33m\u001b[0m\u001b[1;33m\u001b[0m\u001b[0m\n\u001b[0m\u001b[0;32m   1317\u001b[0m \u001b[1;33m\u001b[0m\u001b[0m\n\u001b[0;32m   1318\u001b[0m                 if (\n",
      "\u001b[1;32m~\\anaconda3\\envs\\comp4448\\lib\\site-packages\\transformers\\trainer.py\u001b[0m in \u001b[0;36mtraining_step\u001b[1;34m(self, model, inputs)\u001b[0m\n\u001b[0;32m   1847\u001b[0m                 \u001b[0mloss\u001b[0m \u001b[1;33m=\u001b[0m \u001b[0mself\u001b[0m\u001b[1;33m.\u001b[0m\u001b[0mcompute_loss\u001b[0m\u001b[1;33m(\u001b[0m\u001b[0mmodel\u001b[0m\u001b[1;33m,\u001b[0m \u001b[0minputs\u001b[0m\u001b[1;33m)\u001b[0m\u001b[1;33m\u001b[0m\u001b[1;33m\u001b[0m\u001b[0m\n\u001b[0;32m   1848\u001b[0m         \u001b[1;32melse\u001b[0m\u001b[1;33m:\u001b[0m\u001b[1;33m\u001b[0m\u001b[1;33m\u001b[0m\u001b[0m\n\u001b[1;32m-> 1849\u001b[1;33m             \u001b[0mloss\u001b[0m \u001b[1;33m=\u001b[0m \u001b[0mself\u001b[0m\u001b[1;33m.\u001b[0m\u001b[0mcompute_loss\u001b[0m\u001b[1;33m(\u001b[0m\u001b[0mmodel\u001b[0m\u001b[1;33m,\u001b[0m \u001b[0minputs\u001b[0m\u001b[1;33m)\u001b[0m\u001b[1;33m\u001b[0m\u001b[1;33m\u001b[0m\u001b[0m\n\u001b[0m\u001b[0;32m   1850\u001b[0m \u001b[1;33m\u001b[0m\u001b[0m\n\u001b[0;32m   1851\u001b[0m         \u001b[1;32mif\u001b[0m \u001b[0mself\u001b[0m\u001b[1;33m.\u001b[0m\u001b[0margs\u001b[0m\u001b[1;33m.\u001b[0m\u001b[0mn_gpu\u001b[0m \u001b[1;33m>\u001b[0m \u001b[1;36m1\u001b[0m\u001b[1;33m:\u001b[0m\u001b[1;33m\u001b[0m\u001b[1;33m\u001b[0m\u001b[0m\n",
      "\u001b[1;32m~\\anaconda3\\envs\\comp4448\\lib\\site-packages\\transformers\\trainer.py\u001b[0m in \u001b[0;36mcompute_loss\u001b[1;34m(self, model, inputs, return_outputs)\u001b[0m\n\u001b[0;32m   1889\u001b[0m         \u001b[1;32melse\u001b[0m\u001b[1;33m:\u001b[0m\u001b[1;33m\u001b[0m\u001b[1;33m\u001b[0m\u001b[0m\n\u001b[0;32m   1890\u001b[0m             \u001b[1;31m# We don't use .loss here since the model may return tuples instead of ModelOutput.\u001b[0m\u001b[1;33m\u001b[0m\u001b[1;33m\u001b[0m\u001b[0m\n\u001b[1;32m-> 1891\u001b[1;33m             \u001b[0mloss\u001b[0m \u001b[1;33m=\u001b[0m \u001b[0moutputs\u001b[0m\u001b[1;33m[\u001b[0m\u001b[1;34m\"loss\"\u001b[0m\u001b[1;33m]\u001b[0m \u001b[1;32mif\u001b[0m \u001b[0misinstance\u001b[0m\u001b[1;33m(\u001b[0m\u001b[0moutputs\u001b[0m\u001b[1;33m,\u001b[0m \u001b[0mdict\u001b[0m\u001b[1;33m)\u001b[0m \u001b[1;32melse\u001b[0m \u001b[0moutputs\u001b[0m\u001b[1;33m[\u001b[0m\u001b[1;36m0\u001b[0m\u001b[1;33m]\u001b[0m\u001b[1;33m\u001b[0m\u001b[1;33m\u001b[0m\u001b[0m\n\u001b[0m\u001b[0;32m   1892\u001b[0m \u001b[1;33m\u001b[0m\u001b[0m\n\u001b[0;32m   1893\u001b[0m         \u001b[1;32mreturn\u001b[0m \u001b[1;33m(\u001b[0m\u001b[0mloss\u001b[0m\u001b[1;33m,\u001b[0m \u001b[0moutputs\u001b[0m\u001b[1;33m)\u001b[0m \u001b[1;32mif\u001b[0m \u001b[0mreturn_outputs\u001b[0m \u001b[1;32melse\u001b[0m \u001b[0mloss\u001b[0m\u001b[1;33m\u001b[0m\u001b[1;33m\u001b[0m\u001b[0m\n",
      "\u001b[1;32m~\\anaconda3\\envs\\comp4448\\lib\\site-packages\\transformers\\file_utils.py\u001b[0m in \u001b[0;36m__getitem__\u001b[1;34m(self, k)\u001b[0m\n\u001b[0;32m   2041\u001b[0m         \u001b[1;32mif\u001b[0m \u001b[0misinstance\u001b[0m\u001b[1;33m(\u001b[0m\u001b[0mk\u001b[0m\u001b[1;33m,\u001b[0m \u001b[0mstr\u001b[0m\u001b[1;33m)\u001b[0m\u001b[1;33m:\u001b[0m\u001b[1;33m\u001b[0m\u001b[1;33m\u001b[0m\u001b[0m\n\u001b[0;32m   2042\u001b[0m             \u001b[0minner_dict\u001b[0m \u001b[1;33m=\u001b[0m \u001b[1;33m{\u001b[0m\u001b[0mk\u001b[0m\u001b[1;33m:\u001b[0m \u001b[0mv\u001b[0m \u001b[1;32mfor\u001b[0m \u001b[1;33m(\u001b[0m\u001b[0mk\u001b[0m\u001b[1;33m,\u001b[0m \u001b[0mv\u001b[0m\u001b[1;33m)\u001b[0m \u001b[1;32min\u001b[0m \u001b[0mself\u001b[0m\u001b[1;33m.\u001b[0m\u001b[0mitems\u001b[0m\u001b[1;33m(\u001b[0m\u001b[1;33m)\u001b[0m\u001b[1;33m}\u001b[0m\u001b[1;33m\u001b[0m\u001b[1;33m\u001b[0m\u001b[0m\n\u001b[1;32m-> 2043\u001b[1;33m             \u001b[1;32mreturn\u001b[0m \u001b[0minner_dict\u001b[0m\u001b[1;33m[\u001b[0m\u001b[0mk\u001b[0m\u001b[1;33m]\u001b[0m\u001b[1;33m\u001b[0m\u001b[1;33m\u001b[0m\u001b[0m\n\u001b[0m\u001b[0;32m   2044\u001b[0m         \u001b[1;32melse\u001b[0m\u001b[1;33m:\u001b[0m\u001b[1;33m\u001b[0m\u001b[1;33m\u001b[0m\u001b[0m\n\u001b[0;32m   2045\u001b[0m             \u001b[1;32mreturn\u001b[0m \u001b[0mself\u001b[0m\u001b[1;33m.\u001b[0m\u001b[0mto_tuple\u001b[0m\u001b[1;33m(\u001b[0m\u001b[1;33m)\u001b[0m\u001b[1;33m[\u001b[0m\u001b[0mk\u001b[0m\u001b[1;33m]\u001b[0m\u001b[1;33m\u001b[0m\u001b[1;33m\u001b[0m\u001b[0m\n",
      "\u001b[1;31mKeyError\u001b[0m: 'loss'"
     ]
    }
   ],
   "source": [
    "from transformers import TrainingArguments\n",
    "from transformers import Trainer\n",
    "\n",
    "\n",
    "training_args = TrainingArguments(\"train_test\", per_device_train_batch_size=2, per_device_eval_batch_size=2)\n",
    "trainer = Trainer(\n",
    "    model=model, args=training_args, train_dataset=small_train_dataset, eval_dataset=small_eval_dataset\n",
    ")\n",
    "trainer.train()"
   ]
  },
  {
   "cell_type": "code",
   "execution_count": null,
   "id": "fb0d9ffe",
   "metadata": {},
   "outputs": [],
   "source": []
  }
 ],
 "metadata": {
  "interpreter": {
   "hash": "0f0f8e84468ea63ed105c51173759ab306d7febc690072ee3c51ba3603401a98"
  },
  "kernelspec": {
   "display_name": "Python 3.9.7 64-bit ('comp4448': conda)",
   "name": "python3"
  },
  "language_info": {
   "codemirror_mode": {
    "name": "ipython",
    "version": 3
   },
   "file_extension": ".py",
   "mimetype": "text/x-python",
   "name": "python",
   "nbconvert_exporter": "python",
   "pygments_lexer": "ipython3",
   "version": "3.9.7"
  }
 },
 "nbformat": 4,
 "nbformat_minor": 5
}
